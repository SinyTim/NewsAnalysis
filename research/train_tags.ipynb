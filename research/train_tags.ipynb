{
 "cells": [
  {
   "cell_type": "code",
   "execution_count": 64,
   "metadata": {},
   "outputs": [],
   "source": [
    "from pathlib import Path\n",
    "import pandas as pd\n",
    "\n",
    "from top2vec import Top2Vec\n",
    "\n",
    "from sklearn.preprocessing import MultiLabelBinarizer\n",
    "from sklearn.model_selection import train_test_split\n",
    "from sklearn.metrics import accuracy_score\n",
    "\n",
    "from keras.models import Sequential\n",
    "from keras.layers import Dense\n",
    "from keras.layers import Activation\n",
    "from keras.optimizers import SGD"
   ]
  },
  {
   "cell_type": "code",
   "execution_count": 2,
   "metadata": {},
   "outputs": [],
   "source": [
    "path_corpora = Path('data/corpora')\n",
    "\n",
    "path_corpus_tut = path_corpora / Path('tutby_126784.csv')\n",
    "\n",
    "path_model_top2vec = Path('data/model/top2vec_126784.joblibfile')"
   ]
  },
  {
   "cell_type": "code",
   "execution_count": 3,
   "metadata": {},
   "outputs": [
    {
     "name": "stdout",
     "output_type": "stream",
     "text": [
      "(126784, 6)\n"
     ]
    },
    {
     "data": {
      "text/html": [
       "<div>\n",
       "<style scoped>\n",
       "    .dataframe tbody tr th:only-of-type {\n",
       "        vertical-align: middle;\n",
       "    }\n",
       "\n",
       "    .dataframe tbody tr th {\n",
       "        vertical-align: top;\n",
       "    }\n",
       "\n",
       "    .dataframe thead th {\n",
       "        text-align: right;\n",
       "    }\n",
       "</style>\n",
       "<table border=\"1\" class=\"dataframe\">\n",
       "  <thead>\n",
       "    <tr style=\"text-align: right;\">\n",
       "      <th></th>\n",
       "      <th>url</th>\n",
       "      <th>label</th>\n",
       "      <th>header</th>\n",
       "      <th>date</th>\n",
       "      <th>document</th>\n",
       "      <th>tags</th>\n",
       "    </tr>\n",
       "  </thead>\n",
       "  <tbody>\n",
       "    <tr>\n",
       "      <th>0</th>\n",
       "      <td>https://news.tut.by/550306.html</td>\n",
       "      <td>Футбол</td>\n",
       "      <td>Тренер \"Шахтера\": Оправдываться не хочу. Все в...</td>\n",
       "      <td>2017-07-06T21:35:00+03:00</td>\n",
       "      <td>Главный тренер солигорского «Шахтера» Олег Куб...</td>\n",
       "      <td>[футбол]</td>\n",
       "    </tr>\n",
       "    <tr>\n",
       "      <th>1</th>\n",
       "      <td>https://news.tut.by/550307.html</td>\n",
       "      <td>Общество</td>\n",
       "      <td>\"Зацветет\" ли каменная роза на ул. Комсомольск...</td>\n",
       "      <td>2017-07-07T09:25:00+03:00</td>\n",
       "      <td>Планы по восстановлению рисунка есть. Но пока ...</td>\n",
       "      <td>[архитектура, живопись, ЖКХ]</td>\n",
       "    </tr>\n",
       "    <tr>\n",
       "      <th>2</th>\n",
       "      <td>https://news.tut.by/550308.html</td>\n",
       "      <td>Общество</td>\n",
       "      <td>Фотофакт. Скамейка в виде пожарной машины появ...</td>\n",
       "      <td>2017-07-07T09:27:00+03:00</td>\n",
       "      <td>Областное управление МЧС ко Дню пожарной служб...</td>\n",
       "      <td>[министерства]</td>\n",
       "    </tr>\n",
       "  </tbody>\n",
       "</table>\n",
       "</div>"
      ],
      "text/plain": [
       "                               url     label  \\\n",
       "0  https://news.tut.by/550306.html    Футбол   \n",
       "1  https://news.tut.by/550307.html  Общество   \n",
       "2  https://news.tut.by/550308.html  Общество   \n",
       "\n",
       "                                              header  \\\n",
       "0  Тренер \"Шахтера\": Оправдываться не хочу. Все в...   \n",
       "1  \"Зацветет\" ли каменная роза на ул. Комсомольск...   \n",
       "2  Фотофакт. Скамейка в виде пожарной машины появ...   \n",
       "\n",
       "                        date  \\\n",
       "0  2017-07-06T21:35:00+03:00   \n",
       "1  2017-07-07T09:25:00+03:00   \n",
       "2  2017-07-07T09:27:00+03:00   \n",
       "\n",
       "                                            document  \\\n",
       "0  Главный тренер солигорского «Шахтера» Олег Куб...   \n",
       "1  Планы по восстановлению рисунка есть. Но пока ...   \n",
       "2  Областное управление МЧС ко Дню пожарной служб...   \n",
       "\n",
       "                           tags  \n",
       "0                      [футбол]  \n",
       "1  [архитектура, живопись, ЖКХ]  \n",
       "2                [министерства]  "
      ]
     },
     "metadata": {},
     "output_type": "display_data"
    }
   ],
   "source": [
    "data = pd.read_csv(path_corpus_tut)\n",
    "data['tags'] = data['tags'].apply(eval)\n",
    "\n",
    "print(data.shape)\n",
    "display(data.head(3))"
   ]
  },
  {
   "cell_type": "code",
   "execution_count": 4,
   "metadata": {},
   "outputs": [
    {
     "data": {
      "text/plain": [
       "криминал                  9061\n",
       "правовая информация       8307\n",
       "дети                      7748\n",
       "министерства              7745\n",
       "милиция                   6372\n",
       "                          ... \n",
       "экономия воды                1\n",
       "перекрытие дома              1\n",
       "Крушение A320 EgyptAir       1\n",
       "автоблоги                    1\n",
       "шумоизоляция                 1\n",
       "Name: tags, Length: 1282, dtype: int64"
      ]
     },
     "execution_count": 4,
     "metadata": {},
     "output_type": "execute_result"
    }
   ],
   "source": [
    "data['tags'].explode().value_counts()"
   ]
  },
  {
   "cell_type": "code",
   "execution_count": 5,
   "metadata": {},
   "outputs": [
    {
     "name": "stdout",
     "output_type": "stream",
     "text": [
      "(126784, 300)\n"
     ]
    }
   ],
   "source": [
    "model = Top2Vec.load(path_model_top2vec)\n",
    "\n",
    "x = model.model.docvecs.vectors_docs\n",
    "\n",
    "print(x.shape)"
   ]
  },
  {
   "cell_type": "code",
   "execution_count": 6,
   "metadata": {},
   "outputs": [
    {
     "name": "stdout",
     "output_type": "stream",
     "text": [
      "1282\n",
      "(126784, 1282)\n"
     ]
    }
   ],
   "source": [
    "label_binarizer = MultiLabelBinarizer()\n",
    "\n",
    "y = label_binarizer.fit_transform(data['tags'])\n",
    "\n",
    "print(len(label_binarizer.classes_))\n",
    "print(y.shape)"
   ]
  },
  {
   "cell_type": "code",
   "execution_count": 72,
   "metadata": {},
   "outputs": [
    {
     "name": "stdout",
     "output_type": "stream",
     "text": [
      "Train on 67956 samples, validate on 16989 samples\n",
      "Epoch 1/6\n",
      "67956/67956 [==============================] - 16s 231us/step - loss: 0.0157 - categorical_accuracy: 0.1831 - val_loss: 0.0075 - val_categorical_accuracy: 0.2726\n",
      "Epoch 2/6\n",
      "67956/67956 [==============================] - 15s 224us/step - loss: 0.0068 - categorical_accuracy: 0.2991 - val_loss: 0.0064 - val_categorical_accuracy: 0.3243\n",
      "Epoch 3/6\n",
      "67956/67956 [==============================] - 15s 218us/step - loss: 0.0061 - categorical_accuracy: 0.3268 - val_loss: 0.0061 - val_categorical_accuracy: 0.3274\n",
      "Epoch 4/6\n",
      "67956/67956 [==============================] - 15s 217us/step - loss: 0.0057 - categorical_accuracy: 0.3405 - val_loss: 0.0059 - val_categorical_accuracy: 0.3263\n",
      "Epoch 5/6\n",
      "67956/67956 [==============================] - 15s 218us/step - loss: 0.0055 - categorical_accuracy: 0.3475 - val_loss: 0.0059 - val_categorical_accuracy: 0.3438\n",
      "Epoch 6/6\n",
      "67956/67956 [==============================] - 15s 221us/step - loss: 0.0054 - categorical_accuracy: 0.3550 - val_loss: 0.0058 - val_categorical_accuracy: 0.3468\n",
      "Wall time: 1min 32s\n"
     ]
    }
   ],
   "source": [
    "%%time\n",
    "\n",
    "x_train, x_test, y_train, y_test = train_test_split(x, y, test_size=0.33)\n",
    "\n",
    "model = Sequential()\n",
    "model.add(Dense(100, activation='relu', input_dim=x.shape[1]))\n",
    "model.add(Dense(y.shape[1], activation='sigmoid'))\n",
    "model.compile(loss='binary_crossentropy', optimizer='adam', metrics=['categorical_accuracy'])\n",
    "\n",
    "model.fit(x_train, y_train, epochs=6, batch_size=32, validation_split=0.2)\n",
    "\n",
    "pred = model.predict(x_test)\n",
    "\n",
    "pred = pred > 0.5"
   ]
  },
  {
   "cell_type": "code",
   "execution_count": 85,
   "metadata": {},
   "outputs": [
    {
     "name": "stdout",
     "output_type": "stream",
     "text": [
      "()  ---  ('Forbes',)\n",
      "('В мире', 'Дело отравленного шпиона')  ---  ('В мире', 'Дело отравленного шпиона')\n",
      "('вело',)  ---  ('ЗОЖ-индустрия', 'здоровый образ жизни')\n",
      "('право', 'правовая информация')  ---  ('Видео TUT.BY', 'Евросоюз', 'Простая политика')\n",
      "('животные',)  ---  ('Жестокое обращение с животными',)\n",
      "()  ---  ('Банкротства', 'банки', 'суды')\n",
      "('Зарплаты', 'деньги', 'личные финансы', 'соцзащита', 'статистика')  ---  ('деньги',)\n",
      "('Транспорт', 'дети', 'строительство', 'туризм')  ---  ('Города-спутники', 'детские сады', 'жилье', 'строительство')\n",
      "('ДТП', 'пешеходы')  ---  ('ДТП', 'пешеходы')\n",
      "('Здравоохранение', 'Образование', 'благотворительность', 'дети', 'общество', 'семья')  ---  ('банки', 'благотворительность', 'дети', 'здоровье', 'история Беларуси', 'многоборье', 'происшествия', 'семья', 'социальная неустроенность', 'спорт')\n"
     ]
    }
   ],
   "source": [
    "y_test_label = label_binarizer.inverse_transform(y_test)\n",
    "pred_label = label_binarizer.inverse_transform(pred)\n",
    "\n",
    "for a, b in zip(pred_label[:10], y_test_label[:10]):\n",
    "    print(a, ' --- ', b)"
   ]
  },
  {
   "cell_type": "code",
   "execution_count": 82,
   "metadata": {},
   "outputs": [
    {
     "data": {
      "text/plain": [
       "0.14015631348741606"
      ]
     },
     "execution_count": 82,
     "metadata": {},
     "output_type": "execute_result"
    }
   ],
   "source": [
    "accuracy_score(y_test, pred)"
   ]
  },
  {
   "cell_type": "code",
   "execution_count": null,
   "metadata": {},
   "outputs": [],
   "source": []
  },
  {
   "cell_type": "code",
   "execution_count": null,
   "metadata": {},
   "outputs": [],
   "source": []
  },
  {
   "cell_type": "code",
   "execution_count": null,
   "metadata": {},
   "outputs": [],
   "source": []
  },
  {
   "cell_type": "code",
   "execution_count": null,
   "metadata": {},
   "outputs": [],
   "source": []
  },
  {
   "cell_type": "code",
   "execution_count": null,
   "metadata": {},
   "outputs": [],
   "source": []
  },
  {
   "cell_type": "code",
   "execution_count": null,
   "metadata": {},
   "outputs": [],
   "source": []
  },
  {
   "cell_type": "code",
   "execution_count": null,
   "metadata": {},
   "outputs": [],
   "source": []
  },
  {
   "cell_type": "code",
   "execution_count": null,
   "metadata": {},
   "outputs": [],
   "source": []
  }
 ],
 "metadata": {
  "kernelspec": {
   "display_name": "Python 3",
   "language": "python",
   "name": "python3"
  },
  "language_info": {
   "codemirror_mode": {
    "name": "ipython",
    "version": 3
   },
   "file_extension": ".py",
   "mimetype": "text/x-python",
   "name": "python",
   "nbconvert_exporter": "python",
   "pygments_lexer": "ipython3",
   "version": "3.6.6"
  }
 },
 "nbformat": 4,
 "nbformat_minor": 2
}
