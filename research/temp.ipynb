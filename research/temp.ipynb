{
 "cells": [
  {
   "cell_type": "code",
   "execution_count": 1,
   "metadata": {},
   "outputs": [],
   "source": [
    "import pandas as pd\n",
    "from pathlib import Path\n",
    "\n",
    "\n",
    "# path_data = Path('../data/corpora/clean_tutby_126784.csv')\n",
    "path_data = Path('../data/corpora/tutby_126784.csv')\n",
    "\n",
    "data = pd.read_csv(path_data)\n",
    "\n",
    "data['tags'] = data['tags'].apply(eval)\n",
    "data['tags'] = data['tags'].apply(lambda tags: [tag.lower().strip() for tag in tags])\n",
    "\n",
    "# data = data[['date', 'header', 'document', 'tags']]\n",
    "\n",
    "# print(data.shape)\n",
    "# data.head(7)\n",
    "\n",
    "# data[data['tags'].map(lambda _: 'коронавирус' in _)]"
   ]
  },
  {
   "cell_type": "code",
   "execution_count": 2,
   "metadata": {},
   "outputs": [
    {
     "data": {
      "text/plain": [
       "'Эпидемиологи КНР установили новый вид коронавируса. Он\\xa0стал возбудителем вспышки пневмонии в\\xa0городе Ухань. Об\\xa0этом в\\xa0четверг сообщило Центральное телевидение Китая.\\n\\n«В\\xa0результате лабораторных исследований был найден новый вид коронавируса, удалось установить весь его геном. При помощи нуклеинового анализа подтверждено 15 случаев заражения новым видом коронавируса, у\\xa0одного из\\xa0инфицированных...'"
      ]
     },
     "execution_count": 2,
     "metadata": {},
     "output_type": "execute_result"
    }
   ],
   "source": [
    "data['document'].loc[99385][:394] + '...'"
   ]
  }
 ],
 "metadata": {
  "kernelspec": {
   "display_name": "Python 3",
   "language": "python",
   "name": "python3"
  },
  "language_info": {
   "codemirror_mode": {
    "name": "ipython",
    "version": 3
   },
   "file_extension": ".py",
   "mimetype": "text/x-python",
   "name": "python",
   "nbconvert_exporter": "python",
   "pygments_lexer": "ipython3",
   "version": "3.8.2"
  }
 },
 "nbformat": 4,
 "nbformat_minor": 4
}
