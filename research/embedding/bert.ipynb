{
 "cells": [
  {
   "cell_type": "code",
   "execution_count": 1,
   "metadata": {},
   "outputs": [],
   "source": [
    "from deeppavlov.core.common.file import read_json\n",
    "from deeppavlov import build_model\n",
    "from deeppavlov import configs\n",
    "\n",
    "import umap\n",
    "import hdbscan\n",
    "\n",
    "import pandas as pd\n",
    "import numpy as np\n",
    "from scipy.spatial.distance import cdist\n",
    "\n",
    "from pathlib import Path\n",
    "from tqdm.notebook import tqdm\n",
    "\n",
    "from matplotlib import pyplot as plt\n",
    "import plotly.express as px"
   ]
  },
  {
   "cell_type": "code",
   "execution_count": 2,
   "metadata": {},
   "outputs": [],
   "source": [
    "path_data = Path('../../data/corpora/tutby_126784.csv')\n",
    "\n",
    "# path_model = Path('../../data/model/bert/sentence_ru_cased_L-12_H-768_A-12_pt')\n",
    "path_model = Path('../../data/model/bert/rubert_cased_L-12_H-768_A-12_pt')\n",
    "\n",
    "# path_embedding = Path('../../data/emb/emb_tutby_126784_sbert.npy')\n",
    "path_embedding = Path('../../data/emb/emb_tutby_126784_bert.npy')\n",
    "# path_embedding = Path('../../data/emb/emb_tutby_126784_header_sbert.npy')\n",
    "# path_embedding = Path('../../data/emb/emb_tutby_126784_header_bert.npy')\n",
    "\n",
    "column_name = 'document'\n",
    "# column_name = 'header'"
   ]
  },
  {
   "cell_type": "code",
   "execution_count": 3,
   "metadata": {},
   "outputs": [
    {
     "name": "stdout",
     "output_type": "stream",
     "text": [
      "(126784, 6)\n"
     ]
    },
    {
     "data": {
      "text/html": [
       "<div>\n",
       "<style scoped>\n",
       "    .dataframe tbody tr th:only-of-type {\n",
       "        vertical-align: middle;\n",
       "    }\n",
       "\n",
       "    .dataframe tbody tr th {\n",
       "        vertical-align: top;\n",
       "    }\n",
       "\n",
       "    .dataframe thead th {\n",
       "        text-align: right;\n",
       "    }\n",
       "</style>\n",
       "<table border=\"1\" class=\"dataframe\">\n",
       "  <thead>\n",
       "    <tr style=\"text-align: right;\">\n",
       "      <th></th>\n",
       "      <th>url</th>\n",
       "      <th>label</th>\n",
       "      <th>header</th>\n",
       "      <th>date</th>\n",
       "      <th>document</th>\n",
       "      <th>tags</th>\n",
       "    </tr>\n",
       "  </thead>\n",
       "  <tbody>\n",
       "    <tr>\n",
       "      <th>0</th>\n",
       "      <td>https://news.tut.by/550306.html</td>\n",
       "      <td>Футбол</td>\n",
       "      <td>Тренер \"Шахтера\": Оправдываться не хочу. Все в...</td>\n",
       "      <td>2017-07-06T21:35:00+03:00</td>\n",
       "      <td>Главный тренер солигорского «Шахтера» Олег Куб...</td>\n",
       "      <td>['футбол']</td>\n",
       "    </tr>\n",
       "    <tr>\n",
       "      <th>1</th>\n",
       "      <td>https://news.tut.by/550307.html</td>\n",
       "      <td>Общество</td>\n",
       "      <td>\"Зацветет\" ли каменная роза на ул. Комсомольск...</td>\n",
       "      <td>2017-07-07T09:25:00+03:00</td>\n",
       "      <td>Планы по восстановлению рисунка есть. Но пока ...</td>\n",
       "      <td>['архитектура', 'живопись', 'ЖКХ']</td>\n",
       "    </tr>\n",
       "    <tr>\n",
       "      <th>2</th>\n",
       "      <td>https://news.tut.by/550308.html</td>\n",
       "      <td>Общество</td>\n",
       "      <td>Фотофакт. Скамейка в виде пожарной машины появ...</td>\n",
       "      <td>2017-07-07T09:27:00+03:00</td>\n",
       "      <td>Областное управление МЧС ко Дню пожарной служб...</td>\n",
       "      <td>['министерства']</td>\n",
       "    </tr>\n",
       "    <tr>\n",
       "      <th>3</th>\n",
       "      <td>https://news.tut.by/550309.html</td>\n",
       "      <td>Футбол</td>\n",
       "      <td>Станислав Драгун дебютировал за БАТЭ в матче с...</td>\n",
       "      <td>2017-07-06T22:11:00+03:00</td>\n",
       "      <td>Чемпион Беларуси БАТЭ воспользовался паузой в ...</td>\n",
       "      <td>['футбол', 'БАТЭ']</td>\n",
       "    </tr>\n",
       "    <tr>\n",
       "      <th>4</th>\n",
       "      <td>https://news.tut.by/550310.html</td>\n",
       "      <td>В мире</td>\n",
       "      <td>Генпрокурор Украины пообещал открыть уголовное...</td>\n",
       "      <td>2017-07-06T22:28:00+03:00</td>\n",
       "      <td>Генпрокуратура Украины откроет уголовное произ...</td>\n",
       "      <td>['Ситуация в Украине', 'государственные перево...</td>\n",
       "    </tr>\n",
       "  </tbody>\n",
       "</table>\n",
       "</div>"
      ],
      "text/plain": [
       "                               url     label  \\\n",
       "0  https://news.tut.by/550306.html    Футбол   \n",
       "1  https://news.tut.by/550307.html  Общество   \n",
       "2  https://news.tut.by/550308.html  Общество   \n",
       "3  https://news.tut.by/550309.html    Футбол   \n",
       "4  https://news.tut.by/550310.html    В мире   \n",
       "\n",
       "                                              header  \\\n",
       "0  Тренер \"Шахтера\": Оправдываться не хочу. Все в...   \n",
       "1  \"Зацветет\" ли каменная роза на ул. Комсомольск...   \n",
       "2  Фотофакт. Скамейка в виде пожарной машины появ...   \n",
       "3  Станислав Драгун дебютировал за БАТЭ в матче с...   \n",
       "4  Генпрокурор Украины пообещал открыть уголовное...   \n",
       "\n",
       "                        date  \\\n",
       "0  2017-07-06T21:35:00+03:00   \n",
       "1  2017-07-07T09:25:00+03:00   \n",
       "2  2017-07-07T09:27:00+03:00   \n",
       "3  2017-07-06T22:11:00+03:00   \n",
       "4  2017-07-06T22:28:00+03:00   \n",
       "\n",
       "                                            document  \\\n",
       "0  Главный тренер солигорского «Шахтера» Олег Куб...   \n",
       "1  Планы по восстановлению рисунка есть. Но пока ...   \n",
       "2  Областное управление МЧС ко Дню пожарной служб...   \n",
       "3  Чемпион Беларуси БАТЭ воспользовался паузой в ...   \n",
       "4  Генпрокуратура Украины откроет уголовное произ...   \n",
       "\n",
       "                                                tags  \n",
       "0                                         ['футбол']  \n",
       "1                 ['архитектура', 'живопись', 'ЖКХ']  \n",
       "2                                   ['министерства']  \n",
       "3                                 ['футбол', 'БАТЭ']  \n",
       "4  ['Ситуация в Украине', 'государственные перево...  "
      ]
     },
     "execution_count": 3,
     "metadata": {},
     "output_type": "execute_result"
    }
   ],
   "source": [
    "data = pd.read_csv(path_data)\n",
    "\n",
    "documents = data[column_name]\n",
    "documents = documents.fillna('')\n",
    "\n",
    "documents = documents.str.slice(0, 1000)\n",
    "documents = documents.tolist()\n",
    "\n",
    "print(data.shape)\n",
    "data.head(5)"
   ]
  },
  {
   "cell_type": "code",
   "execution_count": 4,
   "metadata": {},
   "outputs": [
    {
     "name": "stderr",
     "output_type": "stream",
     "text": [
      "[nltk_data] Downloading package punkt to\n",
      "[nltk_data]     C:\\Users\\Tim\\AppData\\Roaming\\nltk_data...\n",
      "[nltk_data]   Package punkt is already up-to-date!\n",
      "[nltk_data] Downloading package stopwords to\n",
      "[nltk_data]     C:\\Users\\Tim\\AppData\\Roaming\\nltk_data...\n",
      "[nltk_data]   Package stopwords is already up-to-date!\n",
      "[nltk_data] Downloading package perluniprops to\n",
      "[nltk_data]     C:\\Users\\Tim\\AppData\\Roaming\\nltk_data...\n",
      "[nltk_data]   Package perluniprops is already up-to-date!\n",
      "[nltk_data] Downloading package nonbreaking_prefixes to\n",
      "[nltk_data]     C:\\Users\\Tim\\AppData\\Roaming\\nltk_data...\n",
      "[nltk_data]   Package nonbreaking_prefixes is already up-to-date!\n"
     ]
    },
    {
     "name": "stdout",
     "output_type": "stream",
     "text": [
      "Wall time: 15.7 s\n"
     ]
    }
   ],
   "source": [
    "%%time\n",
    "\n",
    "bert_config = read_json(configs.embedder.bert_embedder)\n",
    "bert_config['metadata']['variables']['BERT_PATH'] = path_model\n",
    "\n",
    "model = build_model(bert_config)"
   ]
  },
  {
   "cell_type": "code",
   "execution_count": 5,
   "metadata": {
    "scrolled": false
   },
   "outputs": [
    {
     "data": {
      "application/vnd.jupyter.widget-view+json": {
       "model_id": "e1a13aebc35c46a48dbdbcbe9c2cc72b",
       "version_major": 2,
       "version_minor": 0
      },
      "text/plain": [
       "HBox(children=(FloatProgress(value=0.0, max=7924.0), HTML(value='')))"
      ]
     },
     "metadata": {},
     "output_type": "display_data"
    },
    {
     "name": "stdout",
     "output_type": "stream",
     "text": [
      "\n",
      "(126784, 768)\n",
      "Wall time: 5h 19min 29s\n"
     ]
    }
   ],
   "source": [
    "%%time\n",
    "\n",
    "batch_size = 16 # 16 256\n",
    "n_batches = len(documents) // batch_size + int(len(documents) % batch_size != 0)\n",
    "embeddings = []\n",
    "\n",
    "for i in tqdm(range(n_batches)):\n",
    "    batch = documents[batch_size * i : batch_size * (i + 1)]\n",
    "    sent_mean_embs = model(batch)[5]\n",
    "    embeddings += [sent_mean_embs]\n",
    "\n",
    "embeddings = np.concatenate(embeddings)\n",
    "\n",
    "\n",
    "with open(path_embedding, 'wb') as file:\n",
    "    np.save(file, embeddings)\n",
    "\n",
    "with open(path_embedding, 'rb') as file:\n",
    "    embeddings = np.load(file)\n",
    "\n",
    "    \n",
    "print(embeddings.shape)"
   ]
  },
  {
   "cell_type": "code",
   "execution_count": 6,
   "metadata": {},
   "outputs": [],
   "source": [
    "# %%time\n",
    "\n",
    "# umap_model = umap.UMAP(n_neighbors=15, n_components=5, metric='cosine').fit(embeddings)\n",
    "\n",
    "# cluster = hdbscan.HDBSCAN(min_cluster_size=15, metric='euclidean', cluster_selection_method='eom').fit(umap_model.embedding_)\n",
    "\n",
    "# labels = cluster.labels_"
   ]
  },
  {
   "cell_type": "code",
   "execution_count": 7,
   "metadata": {},
   "outputs": [],
   "source": [
    "# %%time\n",
    "\n",
    "# umap_model2 = umap.UMAP(n_neighbors=15, n_components=2, metric='cosine').fit(embeddings)\n",
    "\n",
    "# hover_data = {\n",
    "#     'header': data['header'], \n",
    "#     'label': data['label'], \n",
    "#     'tags': data['tags'], \n",
    "# }\n",
    "\n",
    "# points = umap_model2.embedding_\n",
    "\n",
    "# fig = px.scatter(\n",
    "#     x=points[:, 0], \n",
    "#     y=points[:, 1],\n",
    "#     hover_data=hover_data, \n",
    "#     width=1000, \n",
    "#     height=1000,\n",
    "# )\n",
    "# fig.update_traces(marker=dict(size=4))\n",
    "\n",
    "# fig.write_html(str(path_plot))"
   ]
  }
 ],
 "metadata": {
  "kernelspec": {
   "display_name": "Python 3",
   "language": "python",
   "name": "python3"
  },
  "language_info": {
   "codemirror_mode": {
    "name": "ipython",
    "version": 3
   },
   "file_extension": ".py",
   "mimetype": "text/x-python",
   "name": "python",
   "nbconvert_exporter": "python",
   "pygments_lexer": "ipython3",
   "version": "3.8.2"
  }
 },
 "nbformat": 4,
 "nbformat_minor": 4
}
