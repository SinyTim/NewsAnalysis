{
 "cells": [
  {
   "cell_type": "code",
   "execution_count": 1,
   "metadata": {},
   "outputs": [],
   "source": [
    "from pathlib import Path\n",
    "import pandas as pd\n",
    "from tqdm.notebook import tqdm\n",
    "\n",
    "from navec import Navec\n",
    "from slovnet import NER\n",
    "\n",
    "from natasha import NamesExtractor\n",
    "from natasha import MorphVocab"
   ]
  },
  {
   "cell_type": "code",
   "execution_count": 2,
   "metadata": {},
   "outputs": [],
   "source": [
    "path_corpus_tut = Path('../data/corpora/tutby_126784.csv')\n",
    "path_ner_data = Path('../data/ner/ner_tutby_126784.json')\n",
    "\n",
    "path_navec = Path('../data/model/natasha/navec_news_v1_1B_250K_300d_100q.tar')\n",
    "path_slovnet = Path('../data/model/natasha/slovnet_ner_news_v1.tar')"
   ]
  },
  {
   "cell_type": "code",
   "execution_count": 3,
   "metadata": {},
   "outputs": [
    {
     "name": "stdout",
     "output_type": "stream",
     "text": [
      "(126784, 6)\n"
     ]
    },
    {
     "data": {
      "text/html": [
       "<div>\n",
       "<style scoped>\n",
       "    .dataframe tbody tr th:only-of-type {\n",
       "        vertical-align: middle;\n",
       "    }\n",
       "\n",
       "    .dataframe tbody tr th {\n",
       "        vertical-align: top;\n",
       "    }\n",
       "\n",
       "    .dataframe thead th {\n",
       "        text-align: right;\n",
       "    }\n",
       "</style>\n",
       "<table border=\"1\" class=\"dataframe\">\n",
       "  <thead>\n",
       "    <tr style=\"text-align: right;\">\n",
       "      <th></th>\n",
       "      <th>url</th>\n",
       "      <th>label</th>\n",
       "      <th>header</th>\n",
       "      <th>date</th>\n",
       "      <th>document</th>\n",
       "      <th>tags</th>\n",
       "    </tr>\n",
       "  </thead>\n",
       "  <tbody>\n",
       "    <tr>\n",
       "      <th>0</th>\n",
       "      <td>https://news.tut.by/550306.html</td>\n",
       "      <td>Футбол</td>\n",
       "      <td>Тренер \"Шахтера\": Оправдываться не хочу. Все в...</td>\n",
       "      <td>2017-07-06T21:35:00+03:00</td>\n",
       "      <td>Главный тренер солигорского «Шахтера» Олег Куб...</td>\n",
       "      <td>['футбол']</td>\n",
       "    </tr>\n",
       "    <tr>\n",
       "      <th>1</th>\n",
       "      <td>https://news.tut.by/550307.html</td>\n",
       "      <td>Общество</td>\n",
       "      <td>\"Зацветет\" ли каменная роза на ул. Комсомольск...</td>\n",
       "      <td>2017-07-07T09:25:00+03:00</td>\n",
       "      <td>Планы по восстановлению рисунка есть. Но пока ...</td>\n",
       "      <td>['архитектура', 'живопись', 'ЖКХ']</td>\n",
       "    </tr>\n",
       "    <tr>\n",
       "      <th>2</th>\n",
       "      <td>https://news.tut.by/550308.html</td>\n",
       "      <td>Общество</td>\n",
       "      <td>Фотофакт. Скамейка в виде пожарной машины появ...</td>\n",
       "      <td>2017-07-07T09:27:00+03:00</td>\n",
       "      <td>Областное управление МЧС ко Дню пожарной служб...</td>\n",
       "      <td>['министерства']</td>\n",
       "    </tr>\n",
       "  </tbody>\n",
       "</table>\n",
       "</div>"
      ],
      "text/plain": [
       "                               url     label  \\\n",
       "0  https://news.tut.by/550306.html    Футбол   \n",
       "1  https://news.tut.by/550307.html  Общество   \n",
       "2  https://news.tut.by/550308.html  Общество   \n",
       "\n",
       "                                              header  \\\n",
       "0  Тренер \"Шахтера\": Оправдываться не хочу. Все в...   \n",
       "1  \"Зацветет\" ли каменная роза на ул. Комсомольск...   \n",
       "2  Фотофакт. Скамейка в виде пожарной машины появ...   \n",
       "\n",
       "                        date  \\\n",
       "0  2017-07-06T21:35:00+03:00   \n",
       "1  2017-07-07T09:25:00+03:00   \n",
       "2  2017-07-07T09:27:00+03:00   \n",
       "\n",
       "                                            document  \\\n",
       "0  Главный тренер солигорского «Шахтера» Олег Куб...   \n",
       "1  Планы по восстановлению рисунка есть. Но пока ...   \n",
       "2  Областное управление МЧС ко Дню пожарной служб...   \n",
       "\n",
       "                                 tags  \n",
       "0                          ['футбол']  \n",
       "1  ['архитектура', 'живопись', 'ЖКХ']  \n",
       "2                    ['министерства']  "
      ]
     },
     "metadata": {},
     "output_type": "display_data"
    }
   ],
   "source": [
    "data = pd.read_csv(path_corpus_tut)\n",
    "\n",
    "corpus = data['document']\n",
    "\n",
    "print(data.shape)\n",
    "display(data.head(3))"
   ]
  },
  {
   "cell_type": "code",
   "execution_count": 4,
   "metadata": {
    "scrolled": false
   },
   "outputs": [
    {
     "data": {
      "application/vnd.jupyter.widget-view+json": {
       "model_id": "1cd86fb2ab494fa4a9fd6471ce0ad35c",
       "version_major": 2,
       "version_minor": 0
      },
      "text/plain": [
       "HBox(children=(HTML(value=''), FloatProgress(value=0.0, max=126784.0), HTML(value='')))"
      ]
     },
     "metadata": {},
     "output_type": "display_data"
    },
    {
     "name": "stdout",
     "output_type": "stream",
     "text": [
      "--->\n",
      "\n",
      "<------>\n",
      "\n",
      "<------>\n",
      "<------>\n",
      "<------>\n",
      "<------>\n",
      "<------>\n",
      "<------>\n",
      "\n",
      "\n",
      "<------>\n",
      "<------>\n",
      "<------>\n",
      "<---\n",
      "126784\n",
      "Wall time: 1h 22min 55s\n"
     ]
    }
   ],
   "source": [
    "%%time\n",
    "\n",
    "navec = Navec.load(path_navec)\n",
    "ner = NER.load(path_slovnet)\n",
    "ner.navec(navec)\n",
    "\n",
    "\n",
    "entities = []\n",
    "\n",
    "for text in tqdm(corpus):\n",
    "    try:\n",
    "        markup = ner(text)\n",
    "        entities += [[(text[span.start:span.stop], span.type) for span in markup.spans]]\n",
    "    except:\n",
    "        entities += [[]]\n",
    "        print(f'--->{text}<---', end='')\n",
    "\n",
    "\n",
    "print(len(entities))"
   ]
  },
  {
   "cell_type": "code",
   "execution_count": 5,
   "metadata": {},
   "outputs": [
    {
     "data": {
      "application/vnd.jupyter.widget-view+json": {
       "model_id": "25fa6b659eaf4ee4bd0c6d1866edfb58",
       "version_major": 2,
       "version_minor": 0
      },
      "text/plain": [
       "HBox(children=(HTML(value=''), FloatProgress(value=0.0, max=126784.0), HTML(value='')))"
      ]
     },
     "metadata": {},
     "output_type": "display_data"
    },
    {
     "name": "stdout",
     "output_type": "stream",
     "text": [
      "\n",
      "Wall time: 30min 23s\n"
     ]
    }
   ],
   "source": [
    "%%time\n",
    "\n",
    "morph_vocab = MorphVocab()\n",
    "names_extractor = NamesExtractor(morph_vocab)\n",
    "\n",
    "def lemmatize_entity(entity):\n",
    "    entity_text, entity_type = entity\n",
    "    \n",
    "    if entity_type == 'PER':\n",
    "        name = names_extractor.find(entity_text)\n",
    "        if name:\n",
    "            name = name.fact\n",
    "            name_first = morph_vocab.lemmatize(name.first, 'NOUN', {}) if name.first else ''\n",
    "            name_last = morph_vocab.lemmatize(name.last, 'NOUN', {}) if name.last else ''\n",
    "            if len(name_first) < 2:\n",
    "                name_first = ''\n",
    "            if len(name_last) < 2:\n",
    "                name_last = ''\n",
    "            name_full = f'{name_first} {name_last}'.strip()\n",
    "            if len(name_full) > 1:\n",
    "                entity_text = name_full\n",
    "    else:\n",
    "        parts = entity_text.split()\n",
    "        parts = [morph_vocab.lemmatize(part, 'NOUN', {}) for part in parts]\n",
    "        entity_text = ' '.join(parts)\n",
    "        \n",
    "    return entity_text, entity_type\n",
    "\n",
    "\n",
    "entities = [[lemmatize_entity(entity) for entity in _] for _ in tqdm(entities)]\n",
    "\n",
    "\n",
    "entities = [list(dict(_).items()) for _ in entities]"
   ]
  },
  {
   "cell_type": "code",
   "execution_count": 6,
   "metadata": {},
   "outputs": [
    {
     "data": {
      "text/html": [
       "<div>\n",
       "<style scoped>\n",
       "    .dataframe tbody tr th:only-of-type {\n",
       "        vertical-align: middle;\n",
       "    }\n",
       "\n",
       "    .dataframe tbody tr th {\n",
       "        vertical-align: top;\n",
       "    }\n",
       "\n",
       "    .dataframe thead th {\n",
       "        text-align: right;\n",
       "    }\n",
       "</style>\n",
       "<table border=\"1\" class=\"dataframe\">\n",
       "  <thead>\n",
       "    <tr style=\"text-align: right;\">\n",
       "      <th></th>\n",
       "      <th>url</th>\n",
       "      <th>ner</th>\n",
       "    </tr>\n",
       "  </thead>\n",
       "  <tbody>\n",
       "    <tr>\n",
       "      <th>0</th>\n",
       "      <td>https://news.tut.by/550306.html</td>\n",
       "      <td>[(шахтер, ORG), (олег кубарев, PER), (литва, L...</td>\n",
       "    </tr>\n",
       "    <tr>\n",
       "      <th>1</th>\n",
       "      <td>https://news.tut.by/550307.html</td>\n",
       "      <td>[(илья дударев, PER), (жрэу, ORG), (брестская ...</td>\n",
       "    </tr>\n",
       "    <tr>\n",
       "      <th>2</th>\n",
       "      <td>https://news.tut.by/550308.html</td>\n",
       "      <td>[(мчс, ORG), (парка культура и отдых, ORG), (в...</td>\n",
       "    </tr>\n",
       "    <tr>\n",
       "      <th>3</th>\n",
       "      <td>https://news.tut.by/550309.html</td>\n",
       "      <td>[(батэ, ORG), (борис-арена, ORG), (жальгирис, ...</td>\n",
       "    </tr>\n",
       "    <tr>\n",
       "      <th>4</th>\n",
       "      <td>https://news.tut.by/550310.html</td>\n",
       "      <td>[(генпрокуратура, ORG), (украина, LOC), (викто...</td>\n",
       "    </tr>\n",
       "  </tbody>\n",
       "</table>\n",
       "</div>"
      ],
      "text/plain": [
       "                               url  \\\n",
       "0  https://news.tut.by/550306.html   \n",
       "1  https://news.tut.by/550307.html   \n",
       "2  https://news.tut.by/550308.html   \n",
       "3  https://news.tut.by/550309.html   \n",
       "4  https://news.tut.by/550310.html   \n",
       "\n",
       "                                                 ner  \n",
       "0  [(шахтер, ORG), (олег кубарев, PER), (литва, L...  \n",
       "1  [(илья дударев, PER), (жрэу, ORG), (брестская ...  \n",
       "2  [(мчс, ORG), (парка культура и отдых, ORG), (в...  \n",
       "3  [(батэ, ORG), (борис-арена, ORG), (жальгирис, ...  \n",
       "4  [(генпрокуратура, ORG), (украина, LOC), (викто...  "
      ]
     },
     "execution_count": 6,
     "metadata": {},
     "output_type": "execute_result"
    }
   ],
   "source": [
    "df = pd.DataFrame()\n",
    "\n",
    "df['url'] = data['url']\n",
    "df['ner'] = entities\n",
    "\n",
    "df.to_json(path_ner_data, orient='records', force_ascii=False, lines=True)\n",
    "\n",
    "df.head()"
   ]
  },
  {
   "cell_type": "code",
   "execution_count": null,
   "metadata": {},
   "outputs": [],
   "source": []
  },
  {
   "cell_type": "code",
   "execution_count": null,
   "metadata": {},
   "outputs": [],
   "source": []
  },
  {
   "cell_type": "code",
   "execution_count": null,
   "metadata": {},
   "outputs": [],
   "source": []
  },
  {
   "cell_type": "code",
   "execution_count": null,
   "metadata": {},
   "outputs": [],
   "source": []
  },
  {
   "cell_type": "code",
   "execution_count": null,
   "metadata": {},
   "outputs": [],
   "source": []
  }
 ],
 "metadata": {
  "kernelspec": {
   "display_name": "Python 3",
   "language": "python",
   "name": "python3"
  },
  "language_info": {
   "codemirror_mode": {
    "name": "ipython",
    "version": 3
   },
   "file_extension": ".py",
   "mimetype": "text/x-python",
   "name": "python",
   "nbconvert_exporter": "python",
   "pygments_lexer": "ipython3",
   "version": "3.8.2"
  }
 },
 "nbformat": 4,
 "nbformat_minor": 2
}
