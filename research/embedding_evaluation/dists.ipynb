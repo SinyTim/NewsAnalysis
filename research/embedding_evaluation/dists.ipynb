{
 "cells": [
  {
   "cell_type": "code",
   "execution_count": 1,
   "metadata": {},
   "outputs": [],
   "source": [
    "import pandas as pd\n",
    "import numpy as np\n",
    "\n",
    "from scipy.spatial.distance import cdist\n",
    "from statsmodels.distributions.empirical_distribution import ECDF\n",
    "\n",
    "import matplotlib.pyplot as plt\n",
    "import seaborn as sns\n",
    "\n",
    "from tqdm.notebook import tqdm\n",
    "from pathlib import Path"
   ]
  },
  {
   "cell_type": "code",
   "execution_count": 2,
   "metadata": {},
   "outputs": [],
   "source": [
    "path_corpus = Path('../../data/corpora/tutby_126784.csv')\n",
    "\n",
    "# path_emb = Path('../../data/emb/emb_tutby_126784_bert.npy')  # 0.283 0.342 | 0.453 (with -mean 0.545)\n",
    "# path_emb = Path('../../data/emb/emb_tutby_126784_bert_ppa2.npy')  # 0.866 1.0 | 0.599\n",
    "# path_emb = Path('../../data/emb/emb_tutby_126784_bert_ppa4.npy')  # 0.886 1.0 | 0.599\n",
    "# path_emb = Path('../../data/emb/emb_tutby_126784_bert_umap5.npy')  # 0.076 0.104 | 0.432\n",
    "# path_emb = Path('../../data/emb/emb_tutby_126784_bert_ppa2_umap5.npy')  # 0.029 0.061 | 0.522\n",
    "\n",
    "# path_emb = Path('../../data/emb/emb_clean_tutby_126784_d2v.npy')  # 0.739 0.821 | 0.523\n",
    "# path_emb = Path('../../data/emb/emb_clean_tutby_126784_d2v_ppa2.npy')  # 0.906 1.0 | 0.584\n",
    "# path_emb = Path('../../data/emb/emb_clean_tutby_126784_d2v_umap5.npy')  # 0.230 0.377 | 0.598\n",
    "# path_emb = Path('../../data/emb/emb_clean_tutby_126784_d2v_ppa2_umap5.npy')  # 0.063 0.119 | 0.656\n",
    "# path_emb = Path('../../data/emb/emb_clean_tutby_126784_d2v_v2.npy')  # 0.871 0.955 | 0.670 t0.611\n",
    "# path_emb = Path('../../data/emb/emb_clean_tutby_126784_d2v_v2_ppa2.npy')  # 0.926 1.0 | 0.647\n",
    "# path_emb = Path('../../data/emb/emb_clean_tutby_126784_d2v_v2_umap5.npy')  # 0.055 0.101 | 0.679\n",
    "# path_emb = Path('../../data/emb/emb_clean_tutby_126784_d2v_v2_ppa2_umap5.npy')  # 0.063 0.107 | 0.624  t0.577\n",
    "\n",
    "# path_emb = Path('../../data/emb/emb_clean_tutby_126784_w2v_idf.npy')  # 0.285 0.420 | 0.588 (with -mean 0.138)\n",
    "path_emb = Path('../../data/emb/emb_clean_tutby_126784_w2v_idf_ppa2.npy')  # 0.763 0.996 | 0.690 t0.604\n",
    "# path_emb = Path('../../data/emb/emb_clean_tutby_126784_w2v_idf_umap5.npy')  # 0.048 0.103 | 0.574 t0.546\n",
    "# path_emb = Path('../../data/emb/emb_clean_tutby_126784_w2v_idf_ppa2_umap5.npy')  # 0.036 0.076 | 0.596 t0.535\n",
    "\n",
    "# path_emb = Path('../../data/emb/emb_tutby_126784_header_bert.npy')  # 0.555 0.635 | 0.391\n",
    "# path_emb = Path('../../data/emb/emb_tutby_126784_header_sbert.npy')  # 0.388 0.470 | 0.353 t0.317\n",
    "# path_emb = Path('../../data/emb/emb_clean_tutby_126784_header_w2v_idf.npy')  # 0.601 0.682 | 0.495 t0.467"
   ]
  },
  {
   "cell_type": "code",
   "execution_count": 3,
   "metadata": {},
   "outputs": [
    {
     "name": "stdout",
     "output_type": "stream",
     "text": [
      "(126784, 6)\n"
     ]
    },
    {
     "data": {
      "text/html": [
       "<div>\n",
       "<style scoped>\n",
       "    .dataframe tbody tr th:only-of-type {\n",
       "        vertical-align: middle;\n",
       "    }\n",
       "\n",
       "    .dataframe tbody tr th {\n",
       "        vertical-align: top;\n",
       "    }\n",
       "\n",
       "    .dataframe thead th {\n",
       "        text-align: right;\n",
       "    }\n",
       "</style>\n",
       "<table border=\"1\" class=\"dataframe\">\n",
       "  <thead>\n",
       "    <tr style=\"text-align: right;\">\n",
       "      <th></th>\n",
       "      <th>url</th>\n",
       "      <th>label</th>\n",
       "      <th>header</th>\n",
       "      <th>date</th>\n",
       "      <th>document</th>\n",
       "      <th>tags</th>\n",
       "    </tr>\n",
       "  </thead>\n",
       "  <tbody>\n",
       "    <tr>\n",
       "      <th>0</th>\n",
       "      <td>https://news.tut.by/550306.html</td>\n",
       "      <td>Футбол</td>\n",
       "      <td>Тренер \"Шахтера\": Оправдываться не хочу. Все в...</td>\n",
       "      <td>2017-07-06T21:35:00+03:00</td>\n",
       "      <td>Главный тренер солигорского «Шахтера» Олег Куб...</td>\n",
       "      <td>[футбол]</td>\n",
       "    </tr>\n",
       "    <tr>\n",
       "      <th>1</th>\n",
       "      <td>https://news.tut.by/550307.html</td>\n",
       "      <td>Общество</td>\n",
       "      <td>\"Зацветет\" ли каменная роза на ул. Комсомольск...</td>\n",
       "      <td>2017-07-07T09:25:00+03:00</td>\n",
       "      <td>Планы по восстановлению рисунка есть. Но пока ...</td>\n",
       "      <td>[архитектура, живопись, жкх]</td>\n",
       "    </tr>\n",
       "    <tr>\n",
       "      <th>2</th>\n",
       "      <td>https://news.tut.by/550308.html</td>\n",
       "      <td>Общество</td>\n",
       "      <td>Фотофакт. Скамейка в виде пожарной машины появ...</td>\n",
       "      <td>2017-07-07T09:27:00+03:00</td>\n",
       "      <td>Областное управление МЧС ко Дню пожарной служб...</td>\n",
       "      <td>[министерства]</td>\n",
       "    </tr>\n",
       "    <tr>\n",
       "      <th>3</th>\n",
       "      <td>https://news.tut.by/550309.html</td>\n",
       "      <td>Футбол</td>\n",
       "      <td>Станислав Драгун дебютировал за БАТЭ в матче с...</td>\n",
       "      <td>2017-07-06T22:11:00+03:00</td>\n",
       "      <td>Чемпион Беларуси БАТЭ воспользовался паузой в ...</td>\n",
       "      <td>[футбол, батэ]</td>\n",
       "    </tr>\n",
       "    <tr>\n",
       "      <th>4</th>\n",
       "      <td>https://news.tut.by/550310.html</td>\n",
       "      <td>В мире</td>\n",
       "      <td>Генпрокурор Украины пообещал открыть уголовное...</td>\n",
       "      <td>2017-07-06T22:28:00+03:00</td>\n",
       "      <td>Генпрокуратура Украины откроет уголовное произ...</td>\n",
       "      <td>[ситуация в украине, государственные перевороты]</td>\n",
       "    </tr>\n",
       "  </tbody>\n",
       "</table>\n",
       "</div>"
      ],
      "text/plain": [
       "                               url     label  \\\n",
       "0  https://news.tut.by/550306.html    Футбол   \n",
       "1  https://news.tut.by/550307.html  Общество   \n",
       "2  https://news.tut.by/550308.html  Общество   \n",
       "3  https://news.tut.by/550309.html    Футбол   \n",
       "4  https://news.tut.by/550310.html    В мире   \n",
       "\n",
       "                                              header  \\\n",
       "0  Тренер \"Шахтера\": Оправдываться не хочу. Все в...   \n",
       "1  \"Зацветет\" ли каменная роза на ул. Комсомольск...   \n",
       "2  Фотофакт. Скамейка в виде пожарной машины появ...   \n",
       "3  Станислав Драгун дебютировал за БАТЭ в матче с...   \n",
       "4  Генпрокурор Украины пообещал открыть уголовное...   \n",
       "\n",
       "                        date  \\\n",
       "0  2017-07-06T21:35:00+03:00   \n",
       "1  2017-07-07T09:25:00+03:00   \n",
       "2  2017-07-07T09:27:00+03:00   \n",
       "3  2017-07-06T22:11:00+03:00   \n",
       "4  2017-07-06T22:28:00+03:00   \n",
       "\n",
       "                                            document  \\\n",
       "0  Главный тренер солигорского «Шахтера» Олег Куб...   \n",
       "1  Планы по восстановлению рисунка есть. Но пока ...   \n",
       "2  Областное управление МЧС ко Дню пожарной служб...   \n",
       "3  Чемпион Беларуси БАТЭ воспользовался паузой в ...   \n",
       "4  Генпрокуратура Украины откроет уголовное произ...   \n",
       "\n",
       "                                               tags  \n",
       "0                                          [футбол]  \n",
       "1                      [архитектура, живопись, жкх]  \n",
       "2                                    [министерства]  \n",
       "3                                    [футбол, батэ]  \n",
       "4  [ситуация в украине, государственные перевороты]  "
      ]
     },
     "metadata": {},
     "output_type": "display_data"
    }
   ],
   "source": [
    "data = pd.read_csv(path_corpus)\n",
    "\n",
    "data['tags'] = data['tags'].apply(eval)\n",
    "data['tags'] = data['tags'].apply(lambda tags: [tag.lower().strip() for tag in tags])\n",
    "\n",
    "print(data.shape)\n",
    "display(data.head(5))"
   ]
  },
  {
   "cell_type": "code",
   "execution_count": 4,
   "metadata": {},
   "outputs": [
    {
     "name": "stdout",
     "output_type": "stream",
     "text": [
      "(126784, 300)\n",
      "11\n",
      "(126773, 6)\n",
      "(126773, 300)\n"
     ]
    }
   ],
   "source": [
    "with open(path_emb, 'rb') as file:\n",
    "    embeddings = np.load(file)\n",
    "    \n",
    "index = np.isnan(embeddings).any(axis=1)\n",
    "    \n",
    "print(embeddings.shape)\n",
    "print(index.sum())\n",
    "\n",
    "data = data[~index]\n",
    "embeddings = embeddings[~index]\n",
    "\n",
    "# embeddings = embeddings - embeddings.mean(axis=0)  #\n",
    "\n",
    "print(data.shape)\n",
    "print(embeddings.shape)"
   ]
  },
  {
   "cell_type": "markdown",
   "metadata": {},
   "source": [
    "# P(D<x|same)"
   ]
  },
  {
   "cell_type": "code",
   "execution_count": 5,
   "metadata": {},
   "outputs": [
    {
     "data": {
      "application/vnd.jupyter.widget-view+json": {
       "model_id": "67d56825daeb4406be3e1aa581ee5400",
       "version_major": 2,
       "version_minor": 0
      },
      "text/plain": [
       "HBox(children=(FloatProgress(value=0.0, max=1278.0), HTML(value='')))"
      ]
     },
     "metadata": {},
     "output_type": "display_data"
    },
    {
     "name": "stdout",
     "output_type": "stream",
     "text": [
      "\n",
      "0.7637918822876992\n"
     ]
    }
   ],
   "source": [
    "# TODO sampling\n",
    "\n",
    "tags = data['tags'].explode().value_counts().index\n",
    "\n",
    "dist_sum = 0.0\n",
    "n_dists = 0\n",
    "\n",
    "dists_sample_sim = []\n",
    "\n",
    "for tag in tqdm(tags[::-1]):\n",
    "    \n",
    "    index = data['tags'].map(lambda _: tag in _)\n",
    "    emb = embeddings[index]\n",
    "    \n",
    "    k = int(0.25 * len(emb)) + 1\n",
    "    emb = np.random.permutation(emb)[:k]\n",
    "    \n",
    "    dists = cdist(emb, emb, metric='cosine')\n",
    "    \n",
    "    dist_sum += dists.sum()\n",
    "    n_dists += dists.shape[0] ** 2 - dists.shape[0]\n",
    "    dists_sample_sim += [dists]\n",
    "    \n",
    "dist_mean = dist_sum / n_dists\n",
    "print(dist_mean)\n",
    "\n",
    "dists_sample_sim = [_.flatten() for _ in dists_sample_sim]\n",
    "dists_sample_sim = np.concatenate(dists_sample_sim)"
   ]
  },
  {
   "cell_type": "markdown",
   "metadata": {},
   "source": [
    "# P(D<x)"
   ]
  },
  {
   "cell_type": "code",
   "execution_count": 6,
   "metadata": {},
   "outputs": [
    {
     "name": "stdout",
     "output_type": "stream",
     "text": [
      "0.996170833001124\n",
      "Wall time: 38.8 s\n"
     ]
    }
   ],
   "source": [
    "%%time  \n",
    "# TODO pairs sampling\n",
    "\n",
    "index0 = np.random.permutation(len(embeddings))[:10000]\n",
    "index1 = np.random.permutation(len(embeddings))[:10000]\n",
    "\n",
    "dists_sample = cdist(embeddings[index0], embeddings[index1], metric='cosine')\n",
    "\n",
    "dists_sample = dists_sample.flatten()\n",
    "\n",
    "dist_mean_ = dists_sample.mean()\n",
    "print(dist_mean_)"
   ]
  },
  {
   "cell_type": "markdown",
   "metadata": {},
   "source": [
    "# P(same)"
   ]
  },
  {
   "cell_type": "code",
   "execution_count": 7,
   "metadata": {},
   "outputs": [
    {
     "name": "stdout",
     "output_type": "stream",
     "text": [
      "0.05253409\n",
      "Wall time: 1min 39s\n"
     ]
    }
   ],
   "source": [
    "%%time\n",
    "\n",
    "tags0 = data['tags'].iloc[index0].values\n",
    "tags1 = data['tags'].iloc[index1].values\n",
    "\n",
    "n_sim = sum(len(set(tag0) & set(tag1)) > 0 for tag0 in tags0 for tag1 in tags1)\n",
    "\n",
    "p_sim = n_sim / (len(tags0) * len(tags1))\n",
    "\n",
    "print(p_sim)"
   ]
  },
  {
   "cell_type": "markdown",
   "metadata": {},
   "source": [
    "# P(same|D<x)"
   ]
  },
  {
   "cell_type": "code",
   "execution_count": 8,
   "metadata": {},
   "outputs": [
    {
     "name": "stdout",
     "output_type": "stream",
     "text": [
      "0.604498\n",
      "Wall time: 5.28 s\n"
     ]
    }
   ],
   "source": [
    "%%time\n",
    "\n",
    "a = np.quantile(dists_sample, 0.01)\n",
    "index_sim = np.argwhere(dists_sample < a)[:, 0]\n",
    "\n",
    "index0_sim = index0[index_sim // len(index0)]\n",
    "index1_sim = index1[index_sim % len(index1)]\n",
    "\n",
    "tags0 = data['tags'].iloc[index0_sim]\n",
    "tags1 = data['tags'].iloc[index1_sim]\n",
    "\n",
    "is_sim = np.array([len(set(a) & set(b)) > 0 for a, b in zip(tags0, tags1)])\n",
    "\n",
    "p = sum(is_sim) / len(index_sim)\n",
    "\n",
    "print(p)"
   ]
  },
  {
   "cell_type": "markdown",
   "metadata": {},
   "source": [
    "# P(D<x), P(D<x|same)"
   ]
  },
  {
   "cell_type": "code",
   "execution_count": 9,
   "metadata": {},
   "outputs": [
    {
     "data": {
      "image/png": "[encoded data removed]",
      "text/plain": [
       "<Figure size 432x288 with 1 Axes>"
      ]
     },
     "metadata": {
      "needs_background": "light"
     },
     "output_type": "display_data"
    }
   ],
   "source": [
    "plt.hist(dists_sample, bins=100, density=True, histtype='step')\n",
    "plt.hist(dists_sample_sim, bins=100, density=True, histtype='step')\n",
    "plt.show()"
   ]
  },
  {
   "cell_type": "code",
   "execution_count": 10,
   "metadata": {},
   "outputs": [
    {
     "name": "stdout",
     "output_type": "stream",
     "text": [
      "Wall time: 46.9 s\n"
     ]
    }
   ],
   "source": [
    "%%time\n",
    "\n",
    "ecdf = ECDF(dists_sample)\n",
    "ecdf_sim = ECDF(dists_sample_sim)\n",
    "\n",
    "# plt.plot(ecdf.x, ecdf.y)\n",
    "# plt.plot(ecdf_sim.x, ecdf_sim.y)\n",
    "# plt.show()"
   ]
  },
  {
   "cell_type": "markdown",
   "metadata": {},
   "source": [
    "# P(same|D<x)"
   ]
  },
  {
   "cell_type": "code",
   "execution_count": 11,
   "metadata": {},
   "outputs": [
    {
     "name": "stdout",
     "output_type": "stream",
     "text": [
      "0.47225305851431787 1.197313725202464\n",
      "score: 0.6903622627271123\n"
     ]
    },
    {
     "data": {
      "image/png": "[encoded data removed]",
      "text/plain": [
       "<Figure size 432x288 with 1 Axes>"
      ]
     },
     "metadata": {
      "needs_background": "light"
     },
     "output_type": "display_data"
    },
    {
     "name": "stdout",
     "output_type": "stream",
     "text": [
      "Wall time: 13 s\n"
     ]
    }
   ],
   "source": [
    "%%time\n",
    "\n",
    "a = np.quantile(dists_sample, 0.01)\n",
    "b = np.quantile(dists_sample, 0.90)\n",
    "print(a, b)\n",
    "\n",
    "p_sim_left = p_sim * ecdf_sim(a) / ecdf(a)  # P(same|D<x) = P(same) * P(D<x|same) / P(D<x)\n",
    "p_sim_right = p_sim * (1.0 - ecdf_sim(b)) / (1.0 - ecdf(b))  # P(same|D>x) = P(same) * P(D>x|same) / P(D>x)\n",
    "score = p_sim_left - p_sim_right  # todo remove p_sim_right\n",
    "print(f'score: {score}')\n",
    "\n",
    "a = np.quantile(dists_sample, 0.001)\n",
    "b = dists_sample.max()\n",
    "d = np.linspace(a, b, num=1000)\n",
    "pp = p_sim * ecdf_sim(d) / ecdf(d)\n",
    "# ppp = p_sim * (1.0 - ecdf_sim(d)) / (1.0 - ecdf(d))\n",
    "\n",
    "plt.plot(d, pp)\n",
    "plt.show()\n",
    "# plt.plot(d, ppp)\n",
    "# plt.show()"
   ]
  }
 ],
 "metadata": {
  "kernelspec": {
   "display_name": "Python 3",
   "language": "python",
   "name": "python3"
  },
  "language_info": {
   "codemirror_mode": {
    "name": "ipython",
    "version": 3
   },
   "file_extension": ".py",
   "mimetype": "text/x-python",
   "name": "python",
   "nbconvert_exporter": "python",
   "pygments_lexer": "ipython3",
   "version": "3.8.2"
  }
 },
 "nbformat": 4,
 "nbformat_minor": 4
}
