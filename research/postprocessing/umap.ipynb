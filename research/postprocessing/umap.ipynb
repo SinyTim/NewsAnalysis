{
 "cells": [
  {
   "cell_type": "code",
   "execution_count": 1,
   "metadata": {},
   "outputs": [],
   "source": [
    "import numpy as np\n",
    "\n",
    "import umap\n",
    "\n",
    "import matplotlib.pyplot as plt\n",
    "\n",
    "from pathlib import Path"
   ]
  },
  {
   "cell_type": "code",
   "execution_count": 2,
   "metadata": {},
   "outputs": [],
   "source": [
    "# path_embeddings = Path('../../data/emb/emb_clean_tutby_126784_d2v.npy')\n",
    "path_embeddings = Path('../../data/emb/emb_clean_tutby_126784_d2v_ppa2.npy')\n",
    "# path_embeddings = Path('../../data/emb/emb_tutby_126784_bert.npy')\n",
    "# path_embeddings = Path('../../data/emb/emb_tutby_126784_bert_ppa2.npy')\n",
    "\n",
    "# path_embeddings_proc = Path('../../data/emb/emb_clean_tutby_126784_d2v_umap5.npy')\n",
    "path_embeddings_proc = Path('../../data/emb/emb_clean_tutby_126784_d2v_ppa2_umap5.npy')\n",
    "# path_embeddings_proc = Path('../../data/emb/emb_tutby_126784_bert_umap5.npy')\n",
    "# path_embeddings_proc = Path('../../data/emb/emb_tutby_126784_bert_ppa2_umap5.npy')"
   ]
  },
  {
   "cell_type": "code",
   "execution_count": 3,
   "metadata": {},
   "outputs": [
    {
     "name": "stdout",
     "output_type": "stream",
     "text": [
      "(126784, 300)\n"
     ]
    }
   ],
   "source": [
    "with open(path_embeddings, 'rb') as file:\n",
    "    embeddings = np.load(file)\n",
    "    \n",
    "print(embeddings.shape)"
   ]
  },
  {
   "cell_type": "code",
   "execution_count": 4,
   "metadata": {},
   "outputs": [
    {
     "name": "stdout",
     "output_type": "stream",
     "text": [
      "(126784, 5)\n",
      "Wall time: 1min 30s\n"
     ]
    }
   ],
   "source": [
    "%%time\n",
    "\n",
    "umap_model = umap.UMAP(n_neighbors=15, n_components=5, metric='cosine').fit(embeddings)\n",
    "\n",
    "processed = umap_model.embedding_\n",
    "\n",
    "with open(path_embeddings_proc, 'wb') as file:\n",
    "    np.save(file, processed)\n",
    "\n",
    "print(processed.shape)"
   ]
  }
 ],
 "metadata": {
  "kernelspec": {
   "display_name": "Python 3",
   "language": "python",
   "name": "python3"
  },
  "language_info": {
   "codemirror_mode": {
    "name": "ipython",
    "version": 3
   },
   "file_extension": ".py",
   "mimetype": "text/x-python",
   "name": "python",
   "nbconvert_exporter": "python",
   "pygments_lexer": "ipython3",
   "version": "3.8.2"
  }
 },
 "nbformat": 4,
 "nbformat_minor": 4
}
