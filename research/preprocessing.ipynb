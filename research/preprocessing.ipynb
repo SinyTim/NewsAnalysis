{
 "cells": [
  {
   "cell_type": "code",
   "execution_count": 1,
   "metadata": {},
   "outputs": [
    {
     "name": "stderr",
     "output_type": "stream",
     "text": [
      "[nltk_data] Downloading package stopwords to\n",
      "[nltk_data]     C:\\Users\\Tim\\AppData\\Roaming\\nltk_data...\n",
      "[nltk_data]   Package stopwords is already up-to-date!\n"
     ]
    },
    {
     "data": {
      "text/plain": [
       "True"
      ]
     },
     "execution_count": 1,
     "metadata": {},
     "output_type": "execute_result"
    }
   ],
   "source": [
    "import pandas as pd\n",
    "from pathlib import Path\n",
    "from tqdm.notebook import tqdm\n",
    "\n",
    "import re\n",
    "from string import punctuation\n",
    "import nltk\n",
    "from nltk.corpus import stopwords\n",
    "from pymystem3 import Mystem\n",
    "\n",
    "\n",
    "nltk.download('stopwords')"
   ]
  },
  {
   "cell_type": "code",
   "execution_count": 2,
   "metadata": {},
   "outputs": [],
   "source": [
    "path_corpus_tut = Path('data/corpora/tutby_126784.csv')\n",
    "path_corpus_tut_clean = Path('data/corpora/clean_tutby_126784.csv')"
   ]
  },
  {
   "cell_type": "code",
   "execution_count": 3,
   "metadata": {},
   "outputs": [
    {
     "name": "stdout",
     "output_type": "stream",
     "text": [
      "(126784, 6)\n"
     ]
    },
    {
     "data": {
      "text/html": [
       "<div>\n",
       "<style scoped>\n",
       "    .dataframe tbody tr th:only-of-type {\n",
       "        vertical-align: middle;\n",
       "    }\n",
       "\n",
       "    .dataframe tbody tr th {\n",
       "        vertical-align: top;\n",
       "    }\n",
       "\n",
       "    .dataframe thead th {\n",
       "        text-align: right;\n",
       "    }\n",
       "</style>\n",
       "<table border=\"1\" class=\"dataframe\">\n",
       "  <thead>\n",
       "    <tr style=\"text-align: right;\">\n",
       "      <th></th>\n",
       "      <th>url</th>\n",
       "      <th>label</th>\n",
       "      <th>header</th>\n",
       "      <th>date</th>\n",
       "      <th>document</th>\n",
       "      <th>tags</th>\n",
       "    </tr>\n",
       "  </thead>\n",
       "  <tbody>\n",
       "    <tr>\n",
       "      <th>0</th>\n",
       "      <td>https://news.tut.by/550306.html</td>\n",
       "      <td>Футбол</td>\n",
       "      <td>Тренер \"Шахтера\": Оправдываться не хочу. Все в...</td>\n",
       "      <td>2017-07-06T21:35:00+03:00</td>\n",
       "      <td>Главный тренер солигорского «Шахтера» Олег Куб...</td>\n",
       "      <td>['футбол']</td>\n",
       "    </tr>\n",
       "    <tr>\n",
       "      <th>1</th>\n",
       "      <td>https://news.tut.by/550307.html</td>\n",
       "      <td>Общество</td>\n",
       "      <td>\"Зацветет\" ли каменная роза на ул. Комсомольск...</td>\n",
       "      <td>2017-07-07T09:25:00+03:00</td>\n",
       "      <td>Планы по восстановлению рисунка есть. Но пока ...</td>\n",
       "      <td>['архитектура', 'живопись', 'ЖКХ']</td>\n",
       "    </tr>\n",
       "    <tr>\n",
       "      <th>2</th>\n",
       "      <td>https://news.tut.by/550308.html</td>\n",
       "      <td>Общество</td>\n",
       "      <td>Фотофакт. Скамейка в виде пожарной машины появ...</td>\n",
       "      <td>2017-07-07T09:27:00+03:00</td>\n",
       "      <td>Областное управление МЧС ко Дню пожарной служб...</td>\n",
       "      <td>['министерства']</td>\n",
       "    </tr>\n",
       "  </tbody>\n",
       "</table>\n",
       "</div>"
      ],
      "text/plain": [
       "                               url     label  \\\n",
       "0  https://news.tut.by/550306.html    Футбол   \n",
       "1  https://news.tut.by/550307.html  Общество   \n",
       "2  https://news.tut.by/550308.html  Общество   \n",
       "\n",
       "                                              header  \\\n",
       "0  Тренер \"Шахтера\": Оправдываться не хочу. Все в...   \n",
       "1  \"Зацветет\" ли каменная роза на ул. Комсомольск...   \n",
       "2  Фотофакт. Скамейка в виде пожарной машины появ...   \n",
       "\n",
       "                        date  \\\n",
       "0  2017-07-06T21:35:00+03:00   \n",
       "1  2017-07-07T09:25:00+03:00   \n",
       "2  2017-07-07T09:27:00+03:00   \n",
       "\n",
       "                                            document  \\\n",
       "0  Главный тренер солигорского «Шахтера» Олег Куб...   \n",
       "1  Планы по восстановлению рисунка есть. Но пока ...   \n",
       "2  Областное управление МЧС ко Дню пожарной служб...   \n",
       "\n",
       "                                 tags  \n",
       "0                          ['футбол']  \n",
       "1  ['архитектура', 'живопись', 'ЖКХ']  \n",
       "2                    ['министерства']  "
      ]
     },
     "metadata": {},
     "output_type": "display_data"
    },
    {
     "name": "stdout",
     "output_type": "stream",
     "text": [
      "Wall time: 9 s\n"
     ]
    }
   ],
   "source": [
    "%%time\n",
    "\n",
    "data = pd.read_csv(path_corpus_tut)\n",
    "\n",
    "corpus = data['document']\n",
    "\n",
    "print(data.shape)\n",
    "display(data.head(3))"
   ]
  },
  {
   "cell_type": "code",
   "execution_count": 4,
   "metadata": {},
   "outputs": [],
   "source": [
    "russian_stop_words = set(stopwords.words('russian'))\n",
    "mystem = Mystem() \n",
    "\n",
    "def preprocess_text(text):\n",
    "    text = text.lower()\n",
    "    text = re.sub(u'\\xa0|\\n', ' ', text)\n",
    "    text = re.sub('[^а-яa-z ]', '', text)\n",
    "    tokens = mystem.lemmatize(text)\n",
    "    tokens = [token for token in tokens if ((token not in russian_stop_words) and (token.strip() not in punctuation) and (len(token) > 2))]\n",
    "    text = ' '.join(tokens)\n",
    "    return text"
   ]
  },
  {
   "cell_type": "code",
   "execution_count": 5,
   "metadata": {
    "scrolled": true
   },
   "outputs": [
    {
     "data": {
      "application/vnd.jupyter.widget-view+json": {
       "model_id": "84764561b0974b8eb477bc2e30390f10",
       "version_major": 2,
       "version_minor": 0
      },
      "text/plain": [
       "HBox(children=(FloatProgress(value=0.0, max=127.0), HTML(value='')))"
      ]
     },
     "metadata": {},
     "output_type": "display_data"
    },
    {
     "name": "stdout",
     "output_type": "stream",
     "text": [
      "\n",
      "126784 126784\n",
      "Ora — один из дочерних брендов китайской компании Great Wall, который был создан в 2018 году для выпуска электромобилей. В модельном ряду Ora уже есть три машины — лифтбек iQ, а также парочка городских хэтчбеков R1 и R2, а теперь на подходе и четвертая модель, прежде известная под индексом ES11.\n",
      "\n",
      "\n",
      "\n",
      "Теперь у электромобиля, во внешности которого можно найти сходство и с моделями Porsche, появилось имя собственное — с китайского оно переводится как Good Cat (то есть «хорошая кошка»). По габаритам новинка, для которой доступны двухцветные варианты окраски кузова, оказывается заметно крупнее R1 и R2 — как сообщают китайские СМИ, в длину Good Cat насчитывает 4,23 м, в ширину 1,82 м, а колесная база достигает 2,65 м.\n",
      "\n",
      "\n",
      "\n",
      "В салоне в отделке которого широко используется искусственная кожа, могут разместиться до пяти седоков, из прочих особенностей — двухспицевый руль и единая панель с экранами приборов и мультимедиасистемы.\n",
      "\n",
      "\n",
      "\n",
      "В движение Good Cat приводит установленный на передней оси электродвигатель, развивающий 143 л.с. и 210 Нм крутящего момента. Заявленная максимальная скорость — 150 км/ч, без подзарядки электрокар может проехать до 500 км (по циклу NEDC).\n",
      "\n",
      "\n",
      "\n",
      "Производство Good Cat освоено на заводе Great Wall в Тайчжоу, продажи на местном рынке начнутся уже 25 сентября. Стоимость в компании пока не обнародовали.\n",
      " ora дочерний бренд китайский компания great wall который создавать год выпуск электромобиль модельный ряд ora машина лифтбек также парочка городской хэтчбек подход четвертый модель прежде известный индекс электромобиль внешность который находить сходство модель porsche появляться имя собственный китайский оно переводиться good cat хороший кошка габарит новинка который доступный двухцветный вариант окраска кузов оказываться заметно крупный сообщать китайский сми длина good cat насчитывать ширина колесный база достигать салон отделка который широко использоваться искусственный кожа мочь размещаться пять седок прочий особенность двухспицевый руль единый панель экран прибор мультимедиасистема движение good cat приводить устанавливать передний ось электродвигатель развивать крутить момент заявлять максимальный скорость кмч подзарядка электрокар мочь проехать цикл nedc производство good cat осваивать завод great wall тайчжоу продажа местный рынок начинаться сентябрь стоимость компания пока обнародоваться\n",
      "Wall time: 48min 39s\n"
     ]
    }
   ],
   "source": [
    "%%time\n",
    "\n",
    "separator = 'qsefthukoaxdvgnjthukoaxdvefcngwojd'\n",
    "batch_size = 1000\n",
    "\n",
    "result = []\n",
    "\n",
    "for i in tqdm(range(len(corpus) // batch_size + 1)):\n",
    "    batch = corpus[i * batch_size:(i + 1) * batch_size]\n",
    "    batch_joint = f' {separator} '.join(batch)\n",
    "    batch_clean = preprocess_text(batch_joint)\n",
    "    batch_clean = batch_clean.split(separator)\n",
    "    result += batch_clean\n",
    "    \n",
    "result = [_.strip() for _ in result]\n",
    "\n",
    "\n",
    "print(len(corpus), len(result))\n",
    "print(corpus.iloc[-77], result[-77])\n",
    "\n",
    "data['document'] = result\n",
    "data.to_csv(path_corpus_tut_clean, index=False)"
   ]
  },
  {
   "cell_type": "code",
   "execution_count": 6,
   "metadata": {
    "scrolled": true
   },
   "outputs": [
    {
     "name": "stdout",
     "output_type": "stream",
     "text": [
      "(126784, 6)\n"
     ]
    },
    {
     "data": {
      "text/html": [
       "<div>\n",
       "<style scoped>\n",
       "    .dataframe tbody tr th:only-of-type {\n",
       "        vertical-align: middle;\n",
       "    }\n",
       "\n",
       "    .dataframe tbody tr th {\n",
       "        vertical-align: top;\n",
       "    }\n",
       "\n",
       "    .dataframe thead th {\n",
       "        text-align: right;\n",
       "    }\n",
       "</style>\n",
       "<table border=\"1\" class=\"dataframe\">\n",
       "  <thead>\n",
       "    <tr style=\"text-align: right;\">\n",
       "      <th></th>\n",
       "      <th>url</th>\n",
       "      <th>label</th>\n",
       "      <th>header</th>\n",
       "      <th>date</th>\n",
       "      <th>document</th>\n",
       "      <th>tags</th>\n",
       "    </tr>\n",
       "  </thead>\n",
       "  <tbody>\n",
       "    <tr>\n",
       "      <th>0</th>\n",
       "      <td>https://news.tut.by/550306.html</td>\n",
       "      <td>Футбол</td>\n",
       "      <td>Тренер \"Шахтера\": Оправдываться не хочу. Все в...</td>\n",
       "      <td>2017-07-06T21:35:00+03:00</td>\n",
       "      <td>главный тренер солигорский шахтер олег кубарев...</td>\n",
       "      <td>['футбол']</td>\n",
       "    </tr>\n",
       "    <tr>\n",
       "      <th>1</th>\n",
       "      <td>https://news.tut.by/550307.html</td>\n",
       "      <td>Общество</td>\n",
       "      <td>\"Зацветет\" ли каменная роза на ул. Комсомольск...</td>\n",
       "      <td>2017-07-07T09:25:00+03:00</td>\n",
       "      <td>план восстановление рисунок пока художник илья...</td>\n",
       "      <td>['архитектура', 'живопись', 'ЖКХ']</td>\n",
       "    </tr>\n",
       "    <tr>\n",
       "      <th>2</th>\n",
       "      <td>https://news.tut.by/550308.html</td>\n",
       "      <td>Общество</td>\n",
       "      <td>Фотофакт. Скамейка в виде пожарной машины появ...</td>\n",
       "      <td>2017-07-07T09:27:00+03:00</td>\n",
       "      <td>областной управление мчс день пожарный служба ...</td>\n",
       "      <td>['министерства']</td>\n",
       "    </tr>\n",
       "    <tr>\n",
       "      <th>3</th>\n",
       "      <td>https://news.tut.by/550309.html</td>\n",
       "      <td>Футбол</td>\n",
       "      <td>Станислав Драгун дебютировал за БАТЭ в матче с...</td>\n",
       "      <td>2017-07-06T22:11:00+03:00</td>\n",
       "      <td>чемпион беларусь бате воспользоваться пауза че...</td>\n",
       "      <td>['футбол', 'БАТЭ']</td>\n",
       "    </tr>\n",
       "    <tr>\n",
       "      <th>4</th>\n",
       "      <td>https://news.tut.by/550310.html</td>\n",
       "      <td>В мире</td>\n",
       "      <td>Генпрокурор Украины пообещал открыть уголовное...</td>\n",
       "      <td>2017-07-06T22:28:00+03:00</td>\n",
       "      <td>генпрокуратура украина открывать уголовный про...</td>\n",
       "      <td>['Ситуация в Украине', 'государственные перево...</td>\n",
       "    </tr>\n",
       "  </tbody>\n",
       "</table>\n",
       "</div>"
      ],
      "text/plain": [
       "                               url     label  \\\n",
       "0  https://news.tut.by/550306.html    Футбол   \n",
       "1  https://news.tut.by/550307.html  Общество   \n",
       "2  https://news.tut.by/550308.html  Общество   \n",
       "3  https://news.tut.by/550309.html    Футбол   \n",
       "4  https://news.tut.by/550310.html    В мире   \n",
       "\n",
       "                                              header  \\\n",
       "0  Тренер \"Шахтера\": Оправдываться не хочу. Все в...   \n",
       "1  \"Зацветет\" ли каменная роза на ул. Комсомольск...   \n",
       "2  Фотофакт. Скамейка в виде пожарной машины появ...   \n",
       "3  Станислав Драгун дебютировал за БАТЭ в матче с...   \n",
       "4  Генпрокурор Украины пообещал открыть уголовное...   \n",
       "\n",
       "                        date  \\\n",
       "0  2017-07-06T21:35:00+03:00   \n",
       "1  2017-07-07T09:25:00+03:00   \n",
       "2  2017-07-07T09:27:00+03:00   \n",
       "3  2017-07-06T22:11:00+03:00   \n",
       "4  2017-07-06T22:28:00+03:00   \n",
       "\n",
       "                                            document  \\\n",
       "0  главный тренер солигорский шахтер олег кубарев...   \n",
       "1  план восстановление рисунок пока художник илья...   \n",
       "2  областной управление мчс день пожарный служба ...   \n",
       "3  чемпион беларусь бате воспользоваться пауза че...   \n",
       "4  генпрокуратура украина открывать уголовный про...   \n",
       "\n",
       "                                                tags  \n",
       "0                                         ['футбол']  \n",
       "1                 ['архитектура', 'живопись', 'ЖКХ']  \n",
       "2                                   ['министерства']  \n",
       "3                                 ['футбол', 'БАТЭ']  \n",
       "4  ['Ситуация в Украине', 'государственные перево...  "
      ]
     },
     "metadata": {},
     "output_type": "display_data"
    }
   ],
   "source": [
    "data = pd.read_csv(path_corpus_tut_clean)\n",
    "print(data.shape)\n",
    "display(data.head())"
   ]
  },
  {
   "cell_type": "code",
   "execution_count": null,
   "metadata": {},
   "outputs": [],
   "source": []
  },
  {
   "cell_type": "code",
   "execution_count": null,
   "metadata": {},
   "outputs": [],
   "source": []
  },
  {
   "cell_type": "code",
   "execution_count": null,
   "metadata": {},
   "outputs": [],
   "source": []
  }
 ],
 "metadata": {
  "kernelspec": {
   "display_name": "Python 3",
   "language": "python",
   "name": "python3"
  },
  "language_info": {
   "codemirror_mode": {
    "name": "ipython",
    "version": 3
   },
   "file_extension": ".py",
   "mimetype": "text/x-python",
   "name": "python",
   "nbconvert_exporter": "python",
   "pygments_lexer": "ipython3",
   "version": "3.6.6"
  }
 },
 "nbformat": 4,
 "nbformat_minor": 2
}
