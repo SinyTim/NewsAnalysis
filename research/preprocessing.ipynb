{
 "cells": [
  {
   "cell_type": "code",
   "execution_count": 1,
   "metadata": {},
   "outputs": [
    {
     "name": "stderr",
     "output_type": "stream",
     "text": [
      "[nltk_data] Downloading package stopwords to\n",
      "[nltk_data]     C:\\Users\\Tim\\AppData\\Roaming\\nltk_data...\n",
      "[nltk_data]   Package stopwords is already up-to-date!\n"
     ]
    },
    {
     "data": {
      "text/plain": [
       "True"
      ]
     },
     "execution_count": 1,
     "metadata": {},
     "output_type": "execute_result"
    }
   ],
   "source": [
    "import pandas as pd\n",
    "from pathlib import Path\n",
    "from tqdm.notebook import tqdm\n",
    "\n",
    "import re\n",
    "from string import punctuation\n",
    "import nltk\n",
    "from nltk.corpus import stopwords\n",
    "from pymystem3 import Mystem\n",
    "\n",
    "\n",
    "nltk.download('stopwords')"
   ]
  },
  {
   "cell_type": "code",
   "execution_count": 2,
   "metadata": {},
   "outputs": [],
   "source": [
    "path_corpus_tut = Path('../data/corpora/tutby_700306_702020.csv')\n",
    "path_corpus_tut_clean = Path('../data/corpora/clean_tutby_700306_702020.csv')"
   ]
  },
  {
   "cell_type": "code",
   "execution_count": 3,
   "metadata": {},
   "outputs": [
    {
     "name": "stdout",
     "output_type": "stream",
     "text": [
      "(1431, 6)\n"
     ]
    },
    {
     "data": {
      "text/html": [
       "<div>\n",
       "<style scoped>\n",
       "    .dataframe tbody tr th:only-of-type {\n",
       "        vertical-align: middle;\n",
       "    }\n",
       "\n",
       "    .dataframe tbody tr th {\n",
       "        vertical-align: top;\n",
       "    }\n",
       "\n",
       "    .dataframe thead th {\n",
       "        text-align: right;\n",
       "    }\n",
       "</style>\n",
       "<table border=\"1\" class=\"dataframe\">\n",
       "  <thead>\n",
       "    <tr style=\"text-align: right;\">\n",
       "      <th></th>\n",
       "      <th>url</th>\n",
       "      <th>label</th>\n",
       "      <th>header</th>\n",
       "      <th>date</th>\n",
       "      <th>document</th>\n",
       "      <th>tags</th>\n",
       "    </tr>\n",
       "  </thead>\n",
       "  <tbody>\n",
       "    <tr>\n",
       "      <th>0</th>\n",
       "      <td>https://news.tut.by/700306.html</td>\n",
       "      <td>Общество</td>\n",
       "      <td>Хороводы на перекрестке, водомет и задержания....</td>\n",
       "      <td>2020-09-13T21:33:00+03:00</td>\n",
       "      <td>\\n13 сентября в Бресте несколько тысяч человек...</td>\n",
       "      <td>['акции протеста', 'силовые ведомства']</td>\n",
       "    </tr>\n",
       "    <tr>\n",
       "      <th>1</th>\n",
       "      <td>https://news.tut.by/700307.html</td>\n",
       "      <td>Новость дня</td>\n",
       "      <td>«Покраснело ухо и было разбито колено». В Жоди...</td>\n",
       "      <td>2020-09-13T20:39:00+03:00</td>\n",
       "      <td>Читатели прислали в редакцию несколько видео, ...</td>\n",
       "      <td>['акции протеста', 'милиция', 'силовые ведомст...</td>\n",
       "    </tr>\n",
       "    <tr>\n",
       "      <th>2</th>\n",
       "      <td>https://news.tut.by/700308.html</td>\n",
       "      <td>Общество</td>\n",
       "      <td>Многометровый бчб-флаг, «космонавты» у исполко...</td>\n",
       "      <td>2020-09-13T23:21:00+03:00</td>\n",
       "      <td>\\nСегодня воскресенье — и гомельчане снова выш...</td>\n",
       "      <td>['Видео TUT.BY', 'акции протеста', 'местная вл...</td>\n",
       "    </tr>\n",
       "  </tbody>\n",
       "</table>\n",
       "</div>"
      ],
      "text/plain": [
       "                               url        label  \\\n",
       "0  https://news.tut.by/700306.html     Общество   \n",
       "1  https://news.tut.by/700307.html  Новость дня   \n",
       "2  https://news.tut.by/700308.html     Общество   \n",
       "\n",
       "                                              header  \\\n",
       "0  Хороводы на перекрестке, водомет и задержания....   \n",
       "1  «Покраснело ухо и было разбито колено». В Жоди...   \n",
       "2  Многометровый бчб-флаг, «космонавты» у исполко...   \n",
       "\n",
       "                        date  \\\n",
       "0  2020-09-13T21:33:00+03:00   \n",
       "1  2020-09-13T20:39:00+03:00   \n",
       "2  2020-09-13T23:21:00+03:00   \n",
       "\n",
       "                                            document  \\\n",
       "0  \\n13 сентября в Бресте несколько тысяч человек...   \n",
       "1  Читатели прислали в редакцию несколько видео, ...   \n",
       "2  \\nСегодня воскресенье — и гомельчане снова выш...   \n",
       "\n",
       "                                                tags  \n",
       "0            ['акции протеста', 'силовые ведомства']  \n",
       "1  ['акции протеста', 'милиция', 'силовые ведомст...  \n",
       "2  ['Видео TUT.BY', 'акции протеста', 'местная вл...  "
      ]
     },
     "metadata": {},
     "output_type": "display_data"
    },
    {
     "name": "stdout",
     "output_type": "stream",
     "text": [
      "Wall time: 169 ms\n"
     ]
    }
   ],
   "source": [
    "%%time\n",
    "\n",
    "data = pd.read_csv(path_corpus_tut)\n",
    "\n",
    "corpus = data['document']\n",
    "\n",
    "print(data.shape)\n",
    "display(data.head(3))"
   ]
  },
  {
   "cell_type": "code",
   "execution_count": 4,
   "metadata": {},
   "outputs": [],
   "source": [
    "russian_stop_words = set(stopwords.words('russian'))\n",
    "mystem = Mystem() \n",
    "\n",
    "def preprocess_text(text):\n",
    "    text = text.lower()\n",
    "    text = re.sub(u'\\xa0|\\n', ' ', text)\n",
    "    text = re.sub('[^а-яa-z ]', '', text)\n",
    "    tokens = mystem.lemmatize(text)\n",
    "    tokens = [token for token in tokens if ((token not in russian_stop_words) and (token.strip() not in punctuation) and (len(token) > 2))]\n",
    "    text = ' '.join(tokens)\n",
    "    return text"
   ]
  },
  {
   "cell_type": "code",
   "execution_count": 5,
   "metadata": {
    "scrolled": false
   },
   "outputs": [
    {
     "data": {
      "application/vnd.jupyter.widget-view+json": {
       "model_id": "96e6e6df86e243db83c7f9ed91e8279a",
       "version_major": 2,
       "version_minor": 0
      },
      "text/plain": [
       "HBox(children=(FloatProgress(value=0.0, max=2.0), HTML(value='')))"
      ]
     },
     "metadata": {},
     "output_type": "display_data"
    },
    {
     "name": "stdout",
     "output_type": "stream",
     "text": [
      "\n",
      "1431 1431\n",
      "25 сентября в микрорайоне Березовка прошел семейный праздник для соседей, а во дворе многоэтажек на Гоголя выступил детский театр.\n",
      "\n",
      "Праздник в Березовке. Фото: Сергей Никрашевич, Брестская газета\n",
      "\n",
      "Настоящий семейный праздник устроили для брестчан жители Березовки. Атмосфера во дворе царила праздничная: игры, конкурсы, танцы, сладкий стол. Отдыхали и дети, и взрослые. Приходил даже огромный медведь, пишет «Брестская газета».\n",
      "\n",
      "Праздник в Березовке. Фото: Сергей Никрашевич, Брестская газета\n",
      "\n",
      "\n",
      "Праздник в Березовке. Фото: Сергей Никрашевич, Брестская газета\n",
      "\n",
      "\n",
      "Праздник в Березовке. Фото: Сергей Никрашевич, Брестская газета\n",
      "\n",
      "В это время между домами № 83 и 85 на улице Гоголя прошла встреча соседей, на которой выступил детский театр, сообщает журнал «Бинокль».\n",
      "\n",
      "Фото: Бинокль\n",
      "\n",
      "\n",
      "\n",
      "\n",
      " сентябрь микрорайон березовка проходить семейный праздник сосед двор многоэтажка гоголь выступать детский театр праздник березовка фото сергей никрашевич брестский газета настоящий семейный праздник устраивать брестчанин житель березовка атмосфера двор царить праздничный игра конкурс танец сладкий стол отдыхать ребенок взрослый приходить огромный медведь писать брестский газета праздник березовка фото сергей никрашевич брестский газета праздник березовка фото сергей никрашевич брестский газета праздник березовка фото сергей никрашевич брестский газета время дом улица гоголь проходить встреча сосед который выступать детский театр сообщать журнал бинокль фото бинокль\n",
      "Wall time: 35.6 s\n"
     ]
    }
   ],
   "source": [
    "%%time\n",
    "\n",
    "separator = 'qsefthukoaxdvgnjthukoaxdvefcngwojd'\n",
    "batch_size = 1000\n",
    "\n",
    "result = []\n",
    "\n",
    "for i in tqdm(range(len(corpus) // batch_size + 1)):\n",
    "    batch = corpus[i * batch_size:(i + 1) * batch_size]\n",
    "    batch_joint = f' {separator} '.join(batch)\n",
    "    batch_clean = preprocess_text(batch_joint)\n",
    "    batch_clean = batch_clean.split(separator)\n",
    "    result += batch_clean\n",
    "    \n",
    "result = [_.strip() for _ in result]\n",
    "\n",
    "\n",
    "print(len(corpus), len(result))\n",
    "print(corpus.iloc[-77], result[-77])\n",
    "\n",
    "data['document'] = result\n",
    "data.to_csv(path_corpus_tut_clean, index=False)"
   ]
  },
  {
   "cell_type": "code",
   "execution_count": 6,
   "metadata": {
    "scrolled": true
   },
   "outputs": [
    {
     "name": "stdout",
     "output_type": "stream",
     "text": [
      "(1431, 6)\n"
     ]
    },
    {
     "data": {
      "text/html": [
       "<div>\n",
       "<style scoped>\n",
       "    .dataframe tbody tr th:only-of-type {\n",
       "        vertical-align: middle;\n",
       "    }\n",
       "\n",
       "    .dataframe tbody tr th {\n",
       "        vertical-align: top;\n",
       "    }\n",
       "\n",
       "    .dataframe thead th {\n",
       "        text-align: right;\n",
       "    }\n",
       "</style>\n",
       "<table border=\"1\" class=\"dataframe\">\n",
       "  <thead>\n",
       "    <tr style=\"text-align: right;\">\n",
       "      <th></th>\n",
       "      <th>url</th>\n",
       "      <th>label</th>\n",
       "      <th>header</th>\n",
       "      <th>date</th>\n",
       "      <th>document</th>\n",
       "      <th>tags</th>\n",
       "    </tr>\n",
       "  </thead>\n",
       "  <tbody>\n",
       "    <tr>\n",
       "      <th>0</th>\n",
       "      <td>https://news.tut.by/700306.html</td>\n",
       "      <td>Общество</td>\n",
       "      <td>Хороводы на перекрестке, водомет и задержания....</td>\n",
       "      <td>2020-09-13T21:33:00+03:00</td>\n",
       "      <td>сентябрь брест несколько тысяча человек приним...</td>\n",
       "      <td>['акции протеста', 'силовые ведомства']</td>\n",
       "    </tr>\n",
       "    <tr>\n",
       "      <th>1</th>\n",
       "      <td>https://news.tut.by/700307.html</td>\n",
       "      <td>Новость дня</td>\n",
       "      <td>«Покраснело ухо и было разбито колено». В Жоди...</td>\n",
       "      <td>2020-09-13T20:39:00+03:00</td>\n",
       "      <td>читатель присылать редакция несколько видео ко...</td>\n",
       "      <td>['акции протеста', 'милиция', 'силовые ведомст...</td>\n",
       "    </tr>\n",
       "    <tr>\n",
       "      <th>2</th>\n",
       "      <td>https://news.tut.by/700308.html</td>\n",
       "      <td>Общество</td>\n",
       "      <td>Многометровый бчб-флаг, «космонавты» у исполко...</td>\n",
       "      <td>2020-09-13T23:21:00+03:00</td>\n",
       "      <td>сегодня воскресение гомельчанин снова выходить...</td>\n",
       "      <td>['Видео TUT.BY', 'акции протеста', 'местная вл...</td>\n",
       "    </tr>\n",
       "    <tr>\n",
       "      <th>3</th>\n",
       "      <td>https://news.tut.by/700309.html</td>\n",
       "      <td>Общество</td>\n",
       "      <td>Взрывы, выстрелы, задержания: что происходило ...</td>\n",
       "      <td>2020-09-13T20:37:00+03:00</td>\n",
       "      <td>минск микрорайон дрозд около проспект победите...</td>\n",
       "      <td>['Видео TUT.BY', 'акции протеста', 'взрывы']</td>\n",
       "    </tr>\n",
       "    <tr>\n",
       "      <th>4</th>\n",
       "      <td>https://news.tut.by/700310.html</td>\n",
       "      <td>Деньги и власть</td>\n",
       "      <td>«После инаугурации, если она будет, Лукашенко ...</td>\n",
       "      <td>2020-09-13T23:45:00+03:00</td>\n",
       "      <td>светлана тихановский воскресение вечер проводи...</td>\n",
       "      <td>['Выборы-2020', 'Президент', 'криминал', 'мили...</td>\n",
       "    </tr>\n",
       "  </tbody>\n",
       "</table>\n",
       "</div>"
      ],
      "text/plain": [
       "                               url            label  \\\n",
       "0  https://news.tut.by/700306.html         Общество   \n",
       "1  https://news.tut.by/700307.html      Новость дня   \n",
       "2  https://news.tut.by/700308.html         Общество   \n",
       "3  https://news.tut.by/700309.html         Общество   \n",
       "4  https://news.tut.by/700310.html  Деньги и власть   \n",
       "\n",
       "                                              header  \\\n",
       "0  Хороводы на перекрестке, водомет и задержания....   \n",
       "1  «Покраснело ухо и было разбито колено». В Жоди...   \n",
       "2  Многометровый бчб-флаг, «космонавты» у исполко...   \n",
       "3  Взрывы, выстрелы, задержания: что происходило ...   \n",
       "4  «После инаугурации, если она будет, Лукашенко ...   \n",
       "\n",
       "                        date  \\\n",
       "0  2020-09-13T21:33:00+03:00   \n",
       "1  2020-09-13T20:39:00+03:00   \n",
       "2  2020-09-13T23:21:00+03:00   \n",
       "3  2020-09-13T20:37:00+03:00   \n",
       "4  2020-09-13T23:45:00+03:00   \n",
       "\n",
       "                                            document  \\\n",
       "0  сентябрь брест несколько тысяча человек приним...   \n",
       "1  читатель присылать редакция несколько видео ко...   \n",
       "2  сегодня воскресение гомельчанин снова выходить...   \n",
       "3  минск микрорайон дрозд около проспект победите...   \n",
       "4  светлана тихановский воскресение вечер проводи...   \n",
       "\n",
       "                                                tags  \n",
       "0            ['акции протеста', 'силовые ведомства']  \n",
       "1  ['акции протеста', 'милиция', 'силовые ведомст...  \n",
       "2  ['Видео TUT.BY', 'акции протеста', 'местная вл...  \n",
       "3       ['Видео TUT.BY', 'акции протеста', 'взрывы']  \n",
       "4  ['Выборы-2020', 'Президент', 'криминал', 'мили...  "
      ]
     },
     "metadata": {},
     "output_type": "display_data"
    }
   ],
   "source": [
    "data = pd.read_csv(path_corpus_tut_clean)\n",
    "print(data.shape)\n",
    "display(data.head())"
   ]
  },
  {
   "cell_type": "code",
   "execution_count": null,
   "metadata": {},
   "outputs": [],
   "source": []
  },
  {
   "cell_type": "code",
   "execution_count": null,
   "metadata": {},
   "outputs": [],
   "source": []
  },
  {
   "cell_type": "code",
   "execution_count": null,
   "metadata": {},
   "outputs": [],
   "source": []
  }
 ],
 "metadata": {
  "kernelspec": {
   "display_name": "Python 3",
   "language": "python",
   "name": "python3"
  },
  "language_info": {
   "codemirror_mode": {
    "name": "ipython",
    "version": 3
   },
   "file_extension": ".py",
   "mimetype": "text/x-python",
   "name": "python",
   "nbconvert_exporter": "python",
   "pygments_lexer": "ipython3",
   "version": "3.8.2"
  }
 },
 "nbformat": 4,
 "nbformat_minor": 2
}
