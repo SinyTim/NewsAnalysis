{
 "cells": [
  {
   "cell_type": "code",
   "execution_count": 1,
   "metadata": {},
   "outputs": [],
   "source": [
    "from pathlib import Path\n",
    "import pandas as pd\n",
    "import numpy as np\n",
    "\n",
    "from tqdm.notebook import tqdm\n",
    "\n",
    "import plotly.graph_objects as go"
   ]
  },
  {
   "cell_type": "code",
   "execution_count": 8,
   "metadata": {},
   "outputs": [],
   "source": [
    "path_corpus_tut = Path('../data/corpora/tutby_126784.csv')\n",
    "path_ner_data = Path('../data/ner/ner_tutby_126784.json')\n",
    "\n",
    "path_plot_per = Path('../data/plot/ner_per_tutby_126784.html')\n",
    "path_plot_loc = Path('../data/plot/ner_loc_tutby_126784.html')\n",
    "path_plot_org = Path('../data/plot/ner_org_tutby_126784.html')"
   ]
  },
  {
   "cell_type": "code",
   "execution_count": 3,
   "metadata": {},
   "outputs": [
    {
     "name": "stdout",
     "output_type": "stream",
     "text": [
      "(126784, 7)\n"
     ]
    },
    {
     "data": {
      "text/html": [
       "<div>\n",
       "<style scoped>\n",
       "    .dataframe tbody tr th:only-of-type {\n",
       "        vertical-align: middle;\n",
       "    }\n",
       "\n",
       "    .dataframe tbody tr th {\n",
       "        vertical-align: top;\n",
       "    }\n",
       "\n",
       "    .dataframe thead th {\n",
       "        text-align: right;\n",
       "    }\n",
       "</style>\n",
       "<table border=\"1\" class=\"dataframe\">\n",
       "  <thead>\n",
       "    <tr style=\"text-align: right;\">\n",
       "      <th></th>\n",
       "      <th>url</th>\n",
       "      <th>label</th>\n",
       "      <th>header</th>\n",
       "      <th>date</th>\n",
       "      <th>document</th>\n",
       "      <th>tags</th>\n",
       "      <th>ner</th>\n",
       "    </tr>\n",
       "  </thead>\n",
       "  <tbody>\n",
       "    <tr>\n",
       "      <th>122955</th>\n",
       "      <td>https://news.tut.by/695801.html</td>\n",
       "      <td>Обзоры</td>\n",
       "      <td>Где заняться вейкбордингом в Беларуси</td>\n",
       "      <td>2015-08-27 15:54:00+03:00</td>\n",
       "      <td>\\nЛето заканчивается, а с ним и забавы на воде...</td>\n",
       "      <td>['досуг, хобби', 'спорт', 'дороги']</td>\n",
       "      <td>[[tut.by, ORG], [Вейкбординг, PER], [Вейкборди...</td>\n",
       "    </tr>\n",
       "    <tr>\n",
       "      <th>126602</th>\n",
       "      <td>https://news.tut.by/700088.html</td>\n",
       "      <td>Обзоры</td>\n",
       "      <td>Где заняться вейкбордингом в Беларуси</td>\n",
       "      <td>2015-08-27 15:54:00+03:00</td>\n",
       "      <td>\\nЛето заканчивается, а с ним и забавы на воде...</td>\n",
       "      <td>['досуг, хобби', 'спорт', 'дороги']</td>\n",
       "      <td>[[tut.by, ORG], [Вейкбординг, PER], [Вейкборди...</td>\n",
       "    </tr>\n",
       "    <tr>\n",
       "      <th>0</th>\n",
       "      <td>https://news.tut.by/550306.html</td>\n",
       "      <td>Футбол</td>\n",
       "      <td>Тренер \"Шахтера\": Оправдываться не хочу. Все в...</td>\n",
       "      <td>2017-07-06 21:35:00+03:00</td>\n",
       "      <td>Главный тренер солигорского «Шахтера» Олег Куб...</td>\n",
       "      <td>['футбол']</td>\n",
       "      <td>[[шахтер, ORG], [олег кубарев, PER], [литва, L...</td>\n",
       "    </tr>\n",
       "    <tr>\n",
       "      <th>3</th>\n",
       "      <td>https://news.tut.by/550309.html</td>\n",
       "      <td>Футбол</td>\n",
       "      <td>Станислав Драгун дебютировал за БАТЭ в матче с...</td>\n",
       "      <td>2017-07-06 22:11:00+03:00</td>\n",
       "      <td>Чемпион Беларуси БАТЭ воспользовался паузой в ...</td>\n",
       "      <td>['футбол', 'БАТЭ']</td>\n",
       "      <td>[[батэ, ORG], [борис-арена, ORG], [жальгирис, ...</td>\n",
       "    </tr>\n",
       "    <tr>\n",
       "      <th>4</th>\n",
       "      <td>https://news.tut.by/550310.html</td>\n",
       "      <td>В мире</td>\n",
       "      <td>Генпрокурор Украины пообещал открыть уголовное...</td>\n",
       "      <td>2017-07-06 22:28:00+03:00</td>\n",
       "      <td>Генпрокуратура Украины откроет уголовное произ...</td>\n",
       "      <td>['Ситуация в Украине', 'государственные перево...</td>\n",
       "      <td>[[генпрокуратура, ORG], [украина, LOC], [викто...</td>\n",
       "    </tr>\n",
       "  </tbody>\n",
       "</table>\n",
       "</div>"
      ],
      "text/plain": [
       "                                    url   label  \\\n",
       "122955  https://news.tut.by/695801.html  Обзоры   \n",
       "126602  https://news.tut.by/700088.html  Обзоры   \n",
       "0       https://news.tut.by/550306.html  Футбол   \n",
       "3       https://news.tut.by/550309.html  Футбол   \n",
       "4       https://news.tut.by/550310.html  В мире   \n",
       "\n",
       "                                                   header  \\\n",
       "122955              Где заняться вейкбордингом в Беларуси   \n",
       "126602              Где заняться вейкбордингом в Беларуси   \n",
       "0       Тренер \"Шахтера\": Оправдываться не хочу. Все в...   \n",
       "3       Станислав Драгун дебютировал за БАТЭ в матче с...   \n",
       "4       Генпрокурор Украины пообещал открыть уголовное...   \n",
       "\n",
       "                            date  \\\n",
       "122955 2015-08-27 15:54:00+03:00   \n",
       "126602 2015-08-27 15:54:00+03:00   \n",
       "0      2017-07-06 21:35:00+03:00   \n",
       "3      2017-07-06 22:11:00+03:00   \n",
       "4      2017-07-06 22:28:00+03:00   \n",
       "\n",
       "                                                 document  \\\n",
       "122955  \\nЛето заканчивается, а с ним и забавы на воде...   \n",
       "126602  \\nЛето заканчивается, а с ним и забавы на воде...   \n",
       "0       Главный тренер солигорского «Шахтера» Олег Куб...   \n",
       "3       Чемпион Беларуси БАТЭ воспользовался паузой в ...   \n",
       "4       Генпрокуратура Украины откроет уголовное произ...   \n",
       "\n",
       "                                                     tags  \\\n",
       "122955                ['досуг, хобби', 'спорт', 'дороги']   \n",
       "126602                ['досуг, хобби', 'спорт', 'дороги']   \n",
       "0                                              ['футбол']   \n",
       "3                                      ['футбол', 'БАТЭ']   \n",
       "4       ['Ситуация в Украине', 'государственные перево...   \n",
       "\n",
       "                                                      ner  \n",
       "122955  [[tut.by, ORG], [Вейкбординг, PER], [Вейкборди...  \n",
       "126602  [[tut.by, ORG], [Вейкбординг, PER], [Вейкборди...  \n",
       "0       [[шахтер, ORG], [олег кубарев, PER], [литва, L...  \n",
       "3       [[батэ, ORG], [борис-арена, ORG], [жальгирис, ...  \n",
       "4       [[генпрокуратура, ORG], [украина, LOC], [викто...  "
      ]
     },
     "metadata": {},
     "output_type": "display_data"
    },
    {
     "name": "stdout",
     "output_type": "stream",
     "text": [
      "Wall time: 14 s\n"
     ]
    }
   ],
   "source": [
    "%%time\n",
    "\n",
    "entities = pd.read_json(path_ner_data, orient='records', encoding='cp1251', lines=True)\n",
    "\n",
    "data = pd.read_csv(path_corpus_tut)\n",
    "data['ner'] = entities['ner']\n",
    "\n",
    "data['date'] = pd.to_datetime(data['date'])\n",
    "data = data.sort_values('date')\n",
    "\n",
    "print(data.shape)\n",
    "display(data.head())"
   ]
  },
  {
   "cell_type": "code",
   "execution_count": 4,
   "metadata": {},
   "outputs": [
    {
     "data": {
      "text/html": [
       "<div>\n",
       "<style scoped>\n",
       "    .dataframe tbody tr th:only-of-type {\n",
       "        vertical-align: middle;\n",
       "    }\n",
       "\n",
       "    .dataframe tbody tr th {\n",
       "        vertical-align: top;\n",
       "    }\n",
       "\n",
       "    .dataframe thead th {\n",
       "        text-align: right;\n",
       "    }\n",
       "</style>\n",
       "<table border=\"1\" class=\"dataframe\">\n",
       "  <thead>\n",
       "    <tr style=\"text-align: right;\">\n",
       "      <th></th>\n",
       "      <th>date</th>\n",
       "      <th>ner</th>\n",
       "      <th>ner_tag</th>\n",
       "    </tr>\n",
       "  </thead>\n",
       "  <tbody>\n",
       "    <tr>\n",
       "      <th>122955</th>\n",
       "      <td>2015-08-27 15:54:00+03:00</td>\n",
       "      <td>Вейкбординг</td>\n",
       "      <td>PER</td>\n",
       "    </tr>\n",
       "    <tr>\n",
       "      <th>122955</th>\n",
       "      <td>2015-08-27 15:54:00+03:00</td>\n",
       "      <td>Вейкбордист</td>\n",
       "      <td>PER</td>\n",
       "    </tr>\n",
       "    <tr>\n",
       "      <th>122955</th>\n",
       "      <td>2015-08-27 15:54:00+03:00</td>\n",
       "      <td>надежда дуко</td>\n",
       "      <td>PER</td>\n",
       "    </tr>\n",
       "    <tr>\n",
       "      <th>122955</th>\n",
       "      <td>2015-08-27 15:54:00+03:00</td>\n",
       "      <td>надежда</td>\n",
       "      <td>PER</td>\n",
       "    </tr>\n",
       "    <tr>\n",
       "      <th>122955</th>\n",
       "      <td>2015-08-27 15:54:00+03:00</td>\n",
       "      <td>райдер</td>\n",
       "      <td>PER</td>\n",
       "    </tr>\n",
       "  </tbody>\n",
       "</table>\n",
       "</div>"
      ],
      "text/plain": [
       "                            date           ner ner_tag\n",
       "122955 2015-08-27 15:54:00+03:00   Вейкбординг     PER\n",
       "122955 2015-08-27 15:54:00+03:00   Вейкбордист     PER\n",
       "122955 2015-08-27 15:54:00+03:00  надежда дуко     PER\n",
       "122955 2015-08-27 15:54:00+03:00       надежда     PER\n",
       "122955 2015-08-27 15:54:00+03:00        райдер     PER"
      ]
     },
     "metadata": {},
     "output_type": "display_data"
    },
    {
     "data": {
      "text/html": [
       "<div>\n",
       "<style scoped>\n",
       "    .dataframe tbody tr th:only-of-type {\n",
       "        vertical-align: middle;\n",
       "    }\n",
       "\n",
       "    .dataframe tbody tr th {\n",
       "        vertical-align: top;\n",
       "    }\n",
       "\n",
       "    .dataframe thead th {\n",
       "        text-align: right;\n",
       "    }\n",
       "</style>\n",
       "<table border=\"1\" class=\"dataframe\">\n",
       "  <thead>\n",
       "    <tr style=\"text-align: right;\">\n",
       "      <th></th>\n",
       "      <th>date</th>\n",
       "      <th>ner</th>\n",
       "      <th>ner_tag</th>\n",
       "    </tr>\n",
       "  </thead>\n",
       "  <tbody>\n",
       "    <tr>\n",
       "      <th>122955</th>\n",
       "      <td>2015-08-27 15:54:00+03:00</td>\n",
       "      <td>волковичское водохранилище</td>\n",
       "      <td>LOC</td>\n",
       "    </tr>\n",
       "    <tr>\n",
       "      <th>122955</th>\n",
       "      <td>2015-08-27 15:54:00+03:00</td>\n",
       "      <td>дрозд</td>\n",
       "      <td>LOC</td>\n",
       "    </tr>\n",
       "    <tr>\n",
       "      <th>122955</th>\n",
       "      <td>2015-08-27 15:54:00+03:00</td>\n",
       "      <td>беларусь</td>\n",
       "      <td>LOC</td>\n",
       "    </tr>\n",
       "    <tr>\n",
       "      <th>122955</th>\n",
       "      <td>2015-08-27 15:54:00+03:00</td>\n",
       "      <td>минск</td>\n",
       "      <td>LOC</td>\n",
       "    </tr>\n",
       "    <tr>\n",
       "      <th>122955</th>\n",
       "      <td>2015-08-27 15:54:00+03:00</td>\n",
       "      <td>кольцов</td>\n",
       "      <td>LOC</td>\n",
       "    </tr>\n",
       "  </tbody>\n",
       "</table>\n",
       "</div>"
      ],
      "text/plain": [
       "                            date                         ner ner_tag\n",
       "122955 2015-08-27 15:54:00+03:00  волковичское водохранилище     LOC\n",
       "122955 2015-08-27 15:54:00+03:00                       дрозд     LOC\n",
       "122955 2015-08-27 15:54:00+03:00                    беларусь     LOC\n",
       "122955 2015-08-27 15:54:00+03:00                       минск     LOC\n",
       "122955 2015-08-27 15:54:00+03:00                     кольцов     LOC"
      ]
     },
     "metadata": {},
     "output_type": "display_data"
    },
    {
     "data": {
      "text/html": [
       "<div>\n",
       "<style scoped>\n",
       "    .dataframe tbody tr th:only-of-type {\n",
       "        vertical-align: middle;\n",
       "    }\n",
       "\n",
       "    .dataframe tbody tr th {\n",
       "        vertical-align: top;\n",
       "    }\n",
       "\n",
       "    .dataframe thead th {\n",
       "        text-align: right;\n",
       "    }\n",
       "</style>\n",
       "<table border=\"1\" class=\"dataframe\">\n",
       "  <thead>\n",
       "    <tr style=\"text-align: right;\">\n",
       "      <th></th>\n",
       "      <th>date</th>\n",
       "      <th>ner</th>\n",
       "      <th>ner_tag</th>\n",
       "    </tr>\n",
       "  </thead>\n",
       "  <tbody>\n",
       "    <tr>\n",
       "      <th>122955</th>\n",
       "      <td>2015-08-27 15:54:00+03:00</td>\n",
       "      <td>tut.by</td>\n",
       "      <td>ORG</td>\n",
       "    </tr>\n",
       "    <tr>\n",
       "      <th>122955</th>\n",
       "      <td>2015-08-27 15:54:00+03:00</td>\n",
       "      <td>dominant boardshop</td>\n",
       "      <td>ORG</td>\n",
       "    </tr>\n",
       "    <tr>\n",
       "      <th>122955</th>\n",
       "      <td>2015-08-27 15:54:00+03:00</td>\n",
       "      <td>wake line</td>\n",
       "      <td>ORG</td>\n",
       "    </tr>\n",
       "    <tr>\n",
       "      <th>122955</th>\n",
       "      <td>2015-08-27 15:54:00+03:00</td>\n",
       "      <td>afisha.tut.by. wakepark.by</td>\n",
       "      <td>ORG</td>\n",
       "    </tr>\n",
       "    <tr>\n",
       "      <th>122955</th>\n",
       "      <td>2015-08-27 15:54:00+03:00</td>\n",
       "      <td>гсок «логойск»</td>\n",
       "      <td>ORG</td>\n",
       "    </tr>\n",
       "  </tbody>\n",
       "</table>\n",
       "</div>"
      ],
      "text/plain": [
       "                            date                         ner ner_tag\n",
       "122955 2015-08-27 15:54:00+03:00                      tut.by     ORG\n",
       "122955 2015-08-27 15:54:00+03:00          dominant boardshop     ORG\n",
       "122955 2015-08-27 15:54:00+03:00                   wake line     ORG\n",
       "122955 2015-08-27 15:54:00+03:00  afisha.tut.by. wakepark.by     ORG\n",
       "122955 2015-08-27 15:54:00+03:00              гсок «логойск»     ORG"
      ]
     },
     "metadata": {},
     "output_type": "display_data"
    }
   ],
   "source": [
    "entities = data[['date', 'ner']]\n",
    "\n",
    "entities = entities.explode('ner')\n",
    "entities = entities[entities['ner'].notna()]\n",
    "\n",
    "entities['ner_tag'] = entities['ner'].map(lambda _: _[1])\n",
    "entities['ner'] = entities['ner'].map(lambda _: _[0])\n",
    "\n",
    "entities_per = entities[entities['ner_tag'] == 'PER']\n",
    "entities_loc = entities[entities['ner_tag'] == 'LOC']\n",
    "entities_org = entities[entities['ner_tag'] == 'ORG']\n",
    "\n",
    "display(entities_per.head())\n",
    "display(entities_loc.head())\n",
    "display(entities_org.head())"
   ]
  },
  {
   "cell_type": "code",
   "execution_count": 5,
   "metadata": {},
   "outputs": [
    {
     "data": {
      "image/png": "[encoded data removed]",
      "text/plain": [
       "<Figure size 1080x504 with 1 Axes>"
      ]
     },
     "metadata": {
      "needs_background": "light"
     },
     "output_type": "display_data"
    }
   ],
   "source": [
    "entities_per.resample('W', on='date')['date'].count().plot(figsize=(15,7));\n",
    "entities_loc.resample('W', on='date')['date'].count().plot(figsize=(15,7));\n",
    "entities_org.resample('W', on='date')['date'].count().plot(figsize=(15,7));"
   ]
  },
  {
   "cell_type": "code",
   "execution_count": 20,
   "metadata": {},
   "outputs": [
    {
     "data": {
      "application/vnd.jupyter.widget-view+json": {
       "model_id": "fed5a42d980d491c8aad89e0d91078b4",
       "version_major": 2,
       "version_minor": 0
      },
      "text/plain": [
       "HBox(children=(HTML(value=''), FloatProgress(value=0.0, max=500.0), HTML(value='')))"
      ]
     },
     "metadata": {},
     "output_type": "display_data"
    },
    {
     "name": "stdout",
     "output_type": "stream",
     "text": [
      "\n",
      "Wall time: 44.2 s\n"
     ]
    }
   ],
   "source": [
    "%%time\n",
    "\n",
    "figure = go.Figure()\n",
    "\n",
    "entities_ = entities_per\n",
    "\n",
    "entities_count = entities_.resample('W', on='date')['date'].count()\n",
    "\n",
    "top_entities = entities_['ner'].value_counts()[:500].index\n",
    "\n",
    "for entity in tqdm(top_entities):\n",
    "    ts_entity = entities_[entities_['ner'] == entity].resample('W', on='date')['date'].count()\n",
    "    ts_entire = entities_count[ts_entity.index]\n",
    "    ts = ts_entity / ts_entire\n",
    "    ts = ts[ts_entire > 2000]\n",
    "    if (ts.max() > 0.007):  # 0.007 0.015 0.010\n",
    "        figure.add_scatter(x=ts.index, y=ts, mode='lines', name=entity)\n",
    "\n",
    "figure.write_html(str(path_plot_per))"
   ]
  },
  {
   "cell_type": "code",
   "execution_count": null,
   "metadata": {},
   "outputs": [],
   "source": []
  },
  {
   "cell_type": "code",
   "execution_count": null,
   "metadata": {},
   "outputs": [],
   "source": []
  },
  {
   "cell_type": "code",
   "execution_count": null,
   "metadata": {},
   "outputs": [],
   "source": []
  },
  {
   "cell_type": "code",
   "execution_count": null,
   "metadata": {},
   "outputs": [],
   "source": []
  },
  {
   "cell_type": "code",
   "execution_count": null,
   "metadata": {},
   "outputs": [],
   "source": []
  }
 ],
 "metadata": {
  "kernelspec": {
   "display_name": "Python 3",
   "language": "python",
   "name": "python3"
  },
  "language_info": {
   "codemirror_mode": {
    "name": "ipython",
    "version": 3
   },
   "file_extension": ".py",
   "mimetype": "text/x-python",
   "name": "python",
   "nbconvert_exporter": "python",
   "pygments_lexer": "ipython3",
   "version": "3.8.2"
  }
 },
 "nbformat": 4,
 "nbformat_minor": 4
}
