{
 "cells": [
  {
   "cell_type": "code",
   "execution_count": 1,
   "metadata": {},
   "outputs": [],
   "source": [
    "from pathlib import Path\n",
    "import pandas as pd\n",
    "import numpy as np\n",
    "from sklearn.feature_extraction.text import TfidfVectorizer"
   ]
  },
  {
   "cell_type": "code",
   "execution_count": 2,
   "metadata": {},
   "outputs": [
    {
     "data": {
      "text/html": [
       "<div>\n",
       "<style scoped>\n",
       "    .dataframe tbody tr th:only-of-type {\n",
       "        vertical-align: middle;\n",
       "    }\n",
       "\n",
       "    .dataframe tbody tr th {\n",
       "        vertical-align: top;\n",
       "    }\n",
       "\n",
       "    .dataframe thead th {\n",
       "        text-align: right;\n",
       "    }\n",
       "</style>\n",
       "<table border=\"1\" class=\"dataframe\">\n",
       "  <thead>\n",
       "    <tr style=\"text-align: right;\">\n",
       "      <th></th>\n",
       "      <th>url</th>\n",
       "      <th>label</th>\n",
       "      <th>header</th>\n",
       "      <th>date</th>\n",
       "      <th>document</th>\n",
       "      <th>tags</th>\n",
       "    </tr>\n",
       "  </thead>\n",
       "  <tbody>\n",
       "    <tr>\n",
       "      <th>0</th>\n",
       "      <td>https://news.tut.by/550306.html</td>\n",
       "      <td>Футбол</td>\n",
       "      <td>Тренер \"Шахтера\": Оправдываться не хочу. Все в...</td>\n",
       "      <td>2017-07-06T21:35:00+03:00</td>\n",
       "      <td>главный тренер солигорский шахтер олег кубарев...</td>\n",
       "      <td>['футбол']</td>\n",
       "    </tr>\n",
       "    <tr>\n",
       "      <th>1</th>\n",
       "      <td>https://news.tut.by/550307.html</td>\n",
       "      <td>Общество</td>\n",
       "      <td>\"Зацветет\" ли каменная роза на ул. Комсомольск...</td>\n",
       "      <td>2017-07-07T09:25:00+03:00</td>\n",
       "      <td>план восстановление рисунок пока художник илья...</td>\n",
       "      <td>['архитектура', 'живопись', 'ЖКХ']</td>\n",
       "    </tr>\n",
       "    <tr>\n",
       "      <th>2</th>\n",
       "      <td>https://news.tut.by/550308.html</td>\n",
       "      <td>Общество</td>\n",
       "      <td>Фотофакт. Скамейка в виде пожарной машины появ...</td>\n",
       "      <td>2017-07-07T09:27:00+03:00</td>\n",
       "      <td>областной управление мчс день пожарный служба ...</td>\n",
       "      <td>['министерства']</td>\n",
       "    </tr>\n",
       "  </tbody>\n",
       "</table>\n",
       "</div>"
      ],
      "text/plain": [
       "                               url     label  \\\n",
       "0  https://news.tut.by/550306.html    Футбол   \n",
       "1  https://news.tut.by/550307.html  Общество   \n",
       "2  https://news.tut.by/550308.html  Общество   \n",
       "\n",
       "                                              header  \\\n",
       "0  Тренер \"Шахтера\": Оправдываться не хочу. Все в...   \n",
       "1  \"Зацветет\" ли каменная роза на ул. Комсомольск...   \n",
       "2  Фотофакт. Скамейка в виде пожарной машины появ...   \n",
       "\n",
       "                        date  \\\n",
       "0  2017-07-06T21:35:00+03:00   \n",
       "1  2017-07-07T09:25:00+03:00   \n",
       "2  2017-07-07T09:27:00+03:00   \n",
       "\n",
       "                                            document  \\\n",
       "0  главный тренер солигорский шахтер олег кубарев...   \n",
       "1  план восстановление рисунок пока художник илья...   \n",
       "2  областной управление мчс день пожарный служба ...   \n",
       "\n",
       "                                 tags  \n",
       "0                          ['футбол']  \n",
       "1  ['архитектура', 'живопись', 'ЖКХ']  \n",
       "2                    ['министерства']  "
      ]
     },
     "execution_count": 2,
     "metadata": {},
     "output_type": "execute_result"
    }
   ],
   "source": [
    "path_corpus = Path(r'..\\..\\data\\corpora\\clean_tutby_126784.csv')\n",
    "\n",
    "data = pd.read_csv(path_corpus)\n",
    "data = data[data['document'].notna()]\n",
    "corpus = data['document']\n",
    "\n",
    "data.head(3)"
   ]
  },
  {
   "cell_type": "code",
   "execution_count": 5,
   "metadata": {},
   "outputs": [
    {
     "name": "stdout",
     "output_type": "stream",
     "text": [
      "['тайм' 'шахтер' 'забивать' 'сзади' 'играть']\n",
      "['роза' 'рисунок' 'илья' 'восстанавливать' 'художник']\n",
      "['скамейка' 'мчс' 'пожарный' 'вечерний' 'спасатель']\n",
      "['бате' 'сигневич' 'борисоваривать' 'володько' 'драгун']\n",
      "['янукович' 'переворот' 'генпрокуратура' 'виктор' 'луценко']\n",
      "['пенальти' 'июль' 'лига' 'славия' 'орша']\n",
      "['бурый' 'теннисист' 'азаренко' 'разряд' 'белоруска']\n",
      "['гамбург' 'демонстрант' 'беспорядок' 'полиция' 'водомет']\n",
      "['детство' 'письмо' 'конкурс' 'гродно' 'читатель']\n",
      "['ковер' 'курить' 'ветеран' 'это' 'спортсмен']\n",
      "['раунд' 'македония' 'лига' 'матч' 'квалификация']\n",
      "['дзюдо' 'спорт' 'израиль' 'константин' 'партия']\n",
      "['скидка' 'магазин' 'продавец' 'покупатель' 'рубль']\n",
      "['гуляние' 'июль' 'купала' 'празднование' 'древний']\n",
      "['сценарий' 'экономика' 'концепция' 'ввп' 'прирост']\n",
      "['стаж' 'субсидия' 'техника' 'минск' 'новость']\n",
      "['игнатович' 'чечня' 'сепаратист' 'дмитрий' 'похищение']\n",
      "['кипр' 'анкара' 'остров' 'турецкий' 'контингент']\n",
      "['высылка' 'москва' 'разведчик' 'обама' 'cnn']\n",
      "['нидерланды' 'boeing' 'крушение' 'пассажирский' 'судебный']\n",
      "Wall time: 40.4 s\n"
     ]
    }
   ],
   "source": [
    "%%time\n",
    "\n",
    "vectorizer_idf = TfidfVectorizer(norm='l1', use_idf=True, min_df=100, max_df=0.97)\n",
    "vectorizer_idf.fit_transform(data['document'])\n",
    "idf = vectorizer_idf.idf_\n",
    "names_idf = vectorizer_idf.get_feature_names()\n",
    "word2idf = dict(zip(names_idf, idf))\n",
    "\n",
    "top_k = 5\n",
    "\n",
    "for document in data['document'].iloc[:20]:\n",
    "    \n",
    "    vectorizer_tf = TfidfVectorizer(norm='l1', use_idf=False)\n",
    "    tf = vectorizer_tf.fit_transform([document])\n",
    "    tf = tf.toarray()[0]\n",
    "    \n",
    "    names_tf = vectorizer_tf.get_feature_names()\n",
    "    \n",
    "    idf = np.array([word2idf[name] if name in word2idf else 0.0 for name in names_tf])\n",
    "    \n",
    "    tf_idf = tf * idf\n",
    "\n",
    "    index = tf_idf.argsort()[-top_k:][::-1]\n",
    "    names = np.array(names_tf)[index]\n",
    "    print(names)"
   ]
  },
  {
   "cell_type": "code",
   "execution_count": 17,
   "metadata": {},
   "outputs": [
    {
     "data": {
      "text/plain": [
       "['полиция', 'демонстрант', 'фото', 'полицеискии', 'сообщать']"
      ]
     },
     "execution_count": 17,
     "metadata": {},
     "output_type": "execute_result"
    }
   ],
   "source": [
    "import gensim\n",
    "\n",
    "gensim.summarization.keywords(data['document'].iloc[7], words=5, split=True)"
   ]
  }
 ],
 "metadata": {
  "kernelspec": {
   "display_name": "Python 3",
   "language": "python",
   "name": "python3"
  },
  "language_info": {
   "codemirror_mode": {
    "name": "ipython",
    "version": 3
   },
   "file_extension": ".py",
   "mimetype": "text/x-python",
   "name": "python",
   "nbconvert_exporter": "python",
   "pygments_lexer": "ipython3",
   "version": "3.8.2"
  }
 },
 "nbformat": 4,
 "nbformat_minor": 4
}
